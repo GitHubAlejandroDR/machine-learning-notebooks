{
 "cells": [
  {
   "cell_type": "code",
   "execution_count": 1,
   "metadata": {
    "id": "qRxzag143qf3"
   },
   "outputs": [],
   "source": [
    "import numpy as np\n",
    "import pandas as pd\n",
    "import matplotlib.pyplot as plt\n",
    "import seaborn as sns\n",
    "import warnings\n",
    "warnings.simplefilter(action='ignore', category=FutureWarning)\n",
    "warnings.filterwarnings('ignore')\n",
    "from sklearn.ensemble import RandomForestClassifier, GradientBoostingRegressor, RandomForestRegressor\n",
    "from sklearn.linear_model import LinearRegression\n",
    "from sklearn.pipeline import Pipeline \n",
    "from sklearn.preprocessing import Normalizer, StandardScaler, MinMaxScaler, PowerTransformer, MaxAbsScaler, LabelEncoder\n",
    "from sklearn.model_selection import GridSearchCV\n",
    "from sklearn.decomposition import PCA\n",
    "from sklearn.feature_selection import SelectKBest\n",
    "from sklearn.feature_selection import chi2\n",
    "from sklearn.model_selection import cross_val_score\n",
    "from numpy import mean\n",
    "from sklearn.metrics import *\n",
    "from sklearn.metrics import r2_score\n",
    "from sklearn.metrics import mean_squared_error"
   ]
  },
  {
   "cell_type": "markdown",
   "metadata": {
    "id": "Oj2NqBoQ2U4Z"
   },
   "source": [
    "### Tarea Voting Regressor\n",
    "\n",
    "1.  Implementar 3 modelos de regresión (LinearRegression, RandomForestRegressor, GradientBoostingRegressor) y evaluarlos por separado."
   ]
  },
  {
   "cell_type": "markdown",
   "metadata": {
    "id": "pDIVTfl02pSq"
   },
   "source": [
    "### Cargamos los datos"
   ]
  },
  {
   "cell_type": "code",
   "execution_count": 3,
   "metadata": {
    "id": "vOD20xs32yb-"
   },
   "outputs": [],
   "source": [
    "from sklearn.datasets import load_diabetes\n",
    "load_diabetes = load_diabetes()"
   ]
  },
  {
   "cell_type": "code",
   "execution_count": 4,
   "metadata": {
    "id": "sO2qNgy0370E"
   },
   "outputs": [],
   "source": [
    "df_features = pd.DataFrame(load_diabetes.data, columns = load_diabetes.feature_names)\n",
    "df = pd.DataFrame(load_diabetes.data, columns = load_diabetes.feature_names)\n",
    "df['target'] = pd.DataFrame(load_diabetes.target)"
   ]
  },
  {
   "cell_type": "markdown",
   "metadata": {
    "id": "O7V3XSuG3u7B"
   },
   "source": [
    "### Visualizamos las primeras filas"
   ]
  },
  {
   "cell_type": "code",
   "execution_count": 6,
   "metadata": {
    "colab": {
     "base_uri": "https://localhost:8080/",
     "height": 270
    },
    "id": "Zh9eQ7Wh34Ji",
    "outputId": "aa7305a7-0c16-409a-99d9-c769842a7e46"
   },
   "outputs": [
    {
     "data": {
      "text/html": [
       "<div>\n",
       "<style scoped>\n",
       "    .dataframe tbody tr th:only-of-type {\n",
       "        vertical-align: middle;\n",
       "    }\n",
       "\n",
       "    .dataframe tbody tr th {\n",
       "        vertical-align: top;\n",
       "    }\n",
       "\n",
       "    .dataframe thead th {\n",
       "        text-align: right;\n",
       "    }\n",
       "</style>\n",
       "<table border=\"1\" class=\"dataframe\">\n",
       "  <thead>\n",
       "    <tr style=\"text-align: right;\">\n",
       "      <th></th>\n",
       "      <th>age</th>\n",
       "      <th>sex</th>\n",
       "      <th>bmi</th>\n",
       "      <th>bp</th>\n",
       "      <th>s1</th>\n",
       "      <th>s2</th>\n",
       "      <th>s3</th>\n",
       "      <th>s4</th>\n",
       "      <th>s5</th>\n",
       "      <th>s6</th>\n",
       "      <th>target</th>\n",
       "    </tr>\n",
       "  </thead>\n",
       "  <tbody>\n",
       "    <tr>\n",
       "      <th>0</th>\n",
       "      <td>0.038076</td>\n",
       "      <td>0.050680</td>\n",
       "      <td>0.061696</td>\n",
       "      <td>0.021872</td>\n",
       "      <td>-0.044223</td>\n",
       "      <td>-0.034821</td>\n",
       "      <td>-0.043401</td>\n",
       "      <td>-0.002592</td>\n",
       "      <td>0.019908</td>\n",
       "      <td>-0.017646</td>\n",
       "      <td>151.0</td>\n",
       "    </tr>\n",
       "    <tr>\n",
       "      <th>1</th>\n",
       "      <td>-0.001882</td>\n",
       "      <td>-0.044642</td>\n",
       "      <td>-0.051474</td>\n",
       "      <td>-0.026328</td>\n",
       "      <td>-0.008449</td>\n",
       "      <td>-0.019163</td>\n",
       "      <td>0.074412</td>\n",
       "      <td>-0.039493</td>\n",
       "      <td>-0.068330</td>\n",
       "      <td>-0.092204</td>\n",
       "      <td>75.0</td>\n",
       "    </tr>\n",
       "    <tr>\n",
       "      <th>2</th>\n",
       "      <td>0.085299</td>\n",
       "      <td>0.050680</td>\n",
       "      <td>0.044451</td>\n",
       "      <td>-0.005671</td>\n",
       "      <td>-0.045599</td>\n",
       "      <td>-0.034194</td>\n",
       "      <td>-0.032356</td>\n",
       "      <td>-0.002592</td>\n",
       "      <td>0.002864</td>\n",
       "      <td>-0.025930</td>\n",
       "      <td>141.0</td>\n",
       "    </tr>\n",
       "    <tr>\n",
       "      <th>3</th>\n",
       "      <td>-0.089063</td>\n",
       "      <td>-0.044642</td>\n",
       "      <td>-0.011595</td>\n",
       "      <td>-0.036656</td>\n",
       "      <td>0.012191</td>\n",
       "      <td>0.024991</td>\n",
       "      <td>-0.036038</td>\n",
       "      <td>0.034309</td>\n",
       "      <td>0.022692</td>\n",
       "      <td>-0.009362</td>\n",
       "      <td>206.0</td>\n",
       "    </tr>\n",
       "    <tr>\n",
       "      <th>4</th>\n",
       "      <td>0.005383</td>\n",
       "      <td>-0.044642</td>\n",
       "      <td>-0.036385</td>\n",
       "      <td>0.021872</td>\n",
       "      <td>0.003935</td>\n",
       "      <td>0.015596</td>\n",
       "      <td>0.008142</td>\n",
       "      <td>-0.002592</td>\n",
       "      <td>-0.031991</td>\n",
       "      <td>-0.046641</td>\n",
       "      <td>135.0</td>\n",
       "    </tr>\n",
       "  </tbody>\n",
       "</table>\n",
       "</div>"
      ],
      "text/plain": [
       "        age       sex       bmi        bp        s1        s2        s3  \\\n",
       "0  0.038076  0.050680  0.061696  0.021872 -0.044223 -0.034821 -0.043401   \n",
       "1 -0.001882 -0.044642 -0.051474 -0.026328 -0.008449 -0.019163  0.074412   \n",
       "2  0.085299  0.050680  0.044451 -0.005671 -0.045599 -0.034194 -0.032356   \n",
       "3 -0.089063 -0.044642 -0.011595 -0.036656  0.012191  0.024991 -0.036038   \n",
       "4  0.005383 -0.044642 -0.036385  0.021872  0.003935  0.015596  0.008142   \n",
       "\n",
       "         s4        s5        s6  target  \n",
       "0 -0.002592  0.019908 -0.017646   151.0  \n",
       "1 -0.039493 -0.068330 -0.092204    75.0  \n",
       "2 -0.002592  0.002864 -0.025930   141.0  \n",
       "3  0.034309  0.022692 -0.009362   206.0  \n",
       "4 -0.002592 -0.031991 -0.046641   135.0  "
      ]
     },
     "execution_count": 6,
     "metadata": {},
     "output_type": "execute_result"
    }
   ],
   "source": [
    "df.head()"
   ]
  },
  {
   "cell_type": "code",
   "execution_count": 7,
   "metadata": {
    "colab": {
     "base_uri": "https://localhost:8080/"
    },
    "id": "ahE4n9yJ7O3c",
    "outputId": "4ce7da4f-3c0b-440c-83d1-8127446ed23d"
   },
   "outputs": [
    {
     "name": "stdout",
     "output_type": "stream",
     "text": [
      "<class 'pandas.core.frame.DataFrame'>\n",
      "RangeIndex: 442 entries, 0 to 441\n",
      "Data columns (total 11 columns):\n",
      " #   Column  Non-Null Count  Dtype  \n",
      "---  ------  --------------  -----  \n",
      " 0   age     442 non-null    float64\n",
      " 1   sex     442 non-null    float64\n",
      " 2   bmi     442 non-null    float64\n",
      " 3   bp      442 non-null    float64\n",
      " 4   s1      442 non-null    float64\n",
      " 5   s2      442 non-null    float64\n",
      " 6   s3      442 non-null    float64\n",
      " 7   s4      442 non-null    float64\n",
      " 8   s5      442 non-null    float64\n",
      " 9   s6      442 non-null    float64\n",
      " 10  target  442 non-null    float64\n",
      "dtypes: float64(11)\n",
      "memory usage: 38.1 KB\n"
     ]
    }
   ],
   "source": [
    "df.info()"
   ]
  },
  {
   "cell_type": "markdown",
   "metadata": {
    "id": "qJNPdhCM5M_z"
   },
   "source": [
    "### Valores nulos"
   ]
  },
  {
   "cell_type": "code",
   "execution_count": 9,
   "metadata": {
    "colab": {
     "base_uri": "https://localhost:8080/"
    },
    "id": "q1i4ULm45RQu",
    "outputId": "3c0e98da-78fa-479d-a2bb-ac209d30455f"
   },
   "outputs": [
    {
     "data": {
      "text/plain": [
       "age       0\n",
       "sex       0\n",
       "bmi       0\n",
       "bp        0\n",
       "s1        0\n",
       "s2        0\n",
       "s3        0\n",
       "s4        0\n",
       "s5        0\n",
       "s6        0\n",
       "target    0\n",
       "dtype: int64"
      ]
     },
     "execution_count": 9,
     "metadata": {},
     "output_type": "execute_result"
    }
   ],
   "source": [
    "df.isnull().sum()"
   ]
  },
  {
   "cell_type": "code",
   "execution_count": null,
   "metadata": {},
   "outputs": [],
   "source": [
    "Como vemos no existen valores nulos. Nos ahorramos la imputación o eliminación de estos."
   ]
  },
  {
   "cell_type": "markdown",
   "metadata": {
    "id": "olX7BSo75lb7"
   },
   "source": [
    "### Detección de outliers"
   ]
  },
  {
   "cell_type": "code",
   "execution_count": 11,
   "metadata": {
    "colab": {
     "base_uri": "https://localhost:8080/",
     "height": 434
    },
    "id": "eWw4Q_1-6vs1",
    "outputId": "e8bf72eb-b00f-41b5-c6f8-1143a09e1daf"
   },
   "outputs": [
    {
     "data": {
      "text/html": [
       "<div>\n",
       "<style scoped>\n",
       "    .dataframe tbody tr th:only-of-type {\n",
       "        vertical-align: middle;\n",
       "    }\n",
       "\n",
       "    .dataframe tbody tr th {\n",
       "        vertical-align: top;\n",
       "    }\n",
       "\n",
       "    .dataframe thead th {\n",
       "        text-align: right;\n",
       "    }\n",
       "</style>\n",
       "<table border=\"1\" class=\"dataframe\">\n",
       "  <thead>\n",
       "    <tr style=\"text-align: right;\">\n",
       "      <th></th>\n",
       "      <th>age</th>\n",
       "      <th>sex</th>\n",
       "      <th>bmi</th>\n",
       "      <th>bp</th>\n",
       "      <th>s1</th>\n",
       "      <th>s2</th>\n",
       "      <th>s3</th>\n",
       "      <th>s4</th>\n",
       "      <th>s5</th>\n",
       "      <th>s6</th>\n",
       "      <th>target</th>\n",
       "    </tr>\n",
       "  </thead>\n",
       "  <tbody>\n",
       "    <tr>\n",
       "      <th>count</th>\n",
       "      <td>4.420000e+02</td>\n",
       "      <td>4.420000e+02</td>\n",
       "      <td>4.420000e+02</td>\n",
       "      <td>4.420000e+02</td>\n",
       "      <td>4.420000e+02</td>\n",
       "      <td>4.420000e+02</td>\n",
       "      <td>4.420000e+02</td>\n",
       "      <td>4.420000e+02</td>\n",
       "      <td>4.420000e+02</td>\n",
       "      <td>4.420000e+02</td>\n",
       "      <td>442.000000</td>\n",
       "    </tr>\n",
       "    <tr>\n",
       "      <th>mean</th>\n",
       "      <td>-3.634285e-16</td>\n",
       "      <td>1.308343e-16</td>\n",
       "      <td>-8.045349e-16</td>\n",
       "      <td>1.281655e-16</td>\n",
       "      <td>-8.835316e-17</td>\n",
       "      <td>1.327024e-16</td>\n",
       "      <td>-4.574646e-16</td>\n",
       "      <td>3.777301e-16</td>\n",
       "      <td>-3.830854e-16</td>\n",
       "      <td>-3.412882e-16</td>\n",
       "      <td>152.133484</td>\n",
       "    </tr>\n",
       "    <tr>\n",
       "      <th>std</th>\n",
       "      <td>4.761905e-02</td>\n",
       "      <td>4.761905e-02</td>\n",
       "      <td>4.761905e-02</td>\n",
       "      <td>4.761905e-02</td>\n",
       "      <td>4.761905e-02</td>\n",
       "      <td>4.761905e-02</td>\n",
       "      <td>4.761905e-02</td>\n",
       "      <td>4.761905e-02</td>\n",
       "      <td>4.761905e-02</td>\n",
       "      <td>4.761905e-02</td>\n",
       "      <td>77.093005</td>\n",
       "    </tr>\n",
       "    <tr>\n",
       "      <th>min</th>\n",
       "      <td>-1.072256e-01</td>\n",
       "      <td>-4.464164e-02</td>\n",
       "      <td>-9.027530e-02</td>\n",
       "      <td>-1.123996e-01</td>\n",
       "      <td>-1.267807e-01</td>\n",
       "      <td>-1.156131e-01</td>\n",
       "      <td>-1.023071e-01</td>\n",
       "      <td>-7.639450e-02</td>\n",
       "      <td>-1.260974e-01</td>\n",
       "      <td>-1.377672e-01</td>\n",
       "      <td>25.000000</td>\n",
       "    </tr>\n",
       "    <tr>\n",
       "      <th>25%</th>\n",
       "      <td>-3.729927e-02</td>\n",
       "      <td>-4.464164e-02</td>\n",
       "      <td>-3.422907e-02</td>\n",
       "      <td>-3.665645e-02</td>\n",
       "      <td>-3.424784e-02</td>\n",
       "      <td>-3.035840e-02</td>\n",
       "      <td>-3.511716e-02</td>\n",
       "      <td>-3.949338e-02</td>\n",
       "      <td>-3.324879e-02</td>\n",
       "      <td>-3.317903e-02</td>\n",
       "      <td>87.000000</td>\n",
       "    </tr>\n",
       "    <tr>\n",
       "      <th>50%</th>\n",
       "      <td>5.383060e-03</td>\n",
       "      <td>-4.464164e-02</td>\n",
       "      <td>-7.283766e-03</td>\n",
       "      <td>-5.670611e-03</td>\n",
       "      <td>-4.320866e-03</td>\n",
       "      <td>-3.819065e-03</td>\n",
       "      <td>-6.584468e-03</td>\n",
       "      <td>-2.592262e-03</td>\n",
       "      <td>-1.947634e-03</td>\n",
       "      <td>-1.077698e-03</td>\n",
       "      <td>140.500000</td>\n",
       "    </tr>\n",
       "    <tr>\n",
       "      <th>75%</th>\n",
       "      <td>3.807591e-02</td>\n",
       "      <td>5.068012e-02</td>\n",
       "      <td>3.124802e-02</td>\n",
       "      <td>3.564384e-02</td>\n",
       "      <td>2.835801e-02</td>\n",
       "      <td>2.984439e-02</td>\n",
       "      <td>2.931150e-02</td>\n",
       "      <td>3.430886e-02</td>\n",
       "      <td>3.243323e-02</td>\n",
       "      <td>2.791705e-02</td>\n",
       "      <td>211.500000</td>\n",
       "    </tr>\n",
       "    <tr>\n",
       "      <th>max</th>\n",
       "      <td>1.107267e-01</td>\n",
       "      <td>5.068012e-02</td>\n",
       "      <td>1.705552e-01</td>\n",
       "      <td>1.320442e-01</td>\n",
       "      <td>1.539137e-01</td>\n",
       "      <td>1.987880e-01</td>\n",
       "      <td>1.811791e-01</td>\n",
       "      <td>1.852344e-01</td>\n",
       "      <td>1.335990e-01</td>\n",
       "      <td>1.356118e-01</td>\n",
       "      <td>346.000000</td>\n",
       "    </tr>\n",
       "  </tbody>\n",
       "</table>\n",
       "</div>"
      ],
      "text/plain": [
       "                age           sex           bmi            bp            s1  \\\n",
       "count  4.420000e+02  4.420000e+02  4.420000e+02  4.420000e+02  4.420000e+02   \n",
       "mean  -3.634285e-16  1.308343e-16 -8.045349e-16  1.281655e-16 -8.835316e-17   \n",
       "std    4.761905e-02  4.761905e-02  4.761905e-02  4.761905e-02  4.761905e-02   \n",
       "min   -1.072256e-01 -4.464164e-02 -9.027530e-02 -1.123996e-01 -1.267807e-01   \n",
       "25%   -3.729927e-02 -4.464164e-02 -3.422907e-02 -3.665645e-02 -3.424784e-02   \n",
       "50%    5.383060e-03 -4.464164e-02 -7.283766e-03 -5.670611e-03 -4.320866e-03   \n",
       "75%    3.807591e-02  5.068012e-02  3.124802e-02  3.564384e-02  2.835801e-02   \n",
       "max    1.107267e-01  5.068012e-02  1.705552e-01  1.320442e-01  1.539137e-01   \n",
       "\n",
       "                 s2            s3            s4            s5            s6  \\\n",
       "count  4.420000e+02  4.420000e+02  4.420000e+02  4.420000e+02  4.420000e+02   \n",
       "mean   1.327024e-16 -4.574646e-16  3.777301e-16 -3.830854e-16 -3.412882e-16   \n",
       "std    4.761905e-02  4.761905e-02  4.761905e-02  4.761905e-02  4.761905e-02   \n",
       "min   -1.156131e-01 -1.023071e-01 -7.639450e-02 -1.260974e-01 -1.377672e-01   \n",
       "25%   -3.035840e-02 -3.511716e-02 -3.949338e-02 -3.324879e-02 -3.317903e-02   \n",
       "50%   -3.819065e-03 -6.584468e-03 -2.592262e-03 -1.947634e-03 -1.077698e-03   \n",
       "75%    2.984439e-02  2.931150e-02  3.430886e-02  3.243323e-02  2.791705e-02   \n",
       "max    1.987880e-01  1.811791e-01  1.852344e-01  1.335990e-01  1.356118e-01   \n",
       "\n",
       "           target  \n",
       "count  442.000000  \n",
       "mean   152.133484  \n",
       "std     77.093005  \n",
       "min     25.000000  \n",
       "25%     87.000000  \n",
       "50%    140.500000  \n",
       "75%    211.500000  \n",
       "max    346.000000  "
      ]
     },
     "execution_count": 11,
     "metadata": {},
     "output_type": "execute_result"
    }
   ],
   "source": [
    "df.describe()"
   ]
  },
  {
   "cell_type": "code",
   "execution_count": 12,
   "metadata": {
    "colab": {
     "base_uri": "https://localhost:8080/",
     "height": 281
    },
    "id": "mmcwABwe50xp",
    "outputId": "b4c4d3dd-b17f-4431-a672-501d82912788"
   },
   "outputs": [
    {
     "data": {
      "image/png": "[encoded data removed]",
      "text/plain": [
       "<Figure size 432x288 with 1 Axes>"
      ]
     },
     "metadata": {
      "needs_background": "light"
     },
     "output_type": "display_data"
    }
   ],
   "source": [
    "#### Age\n",
    "\n",
    "ws = np.array(df['age'])\n",
    "edad_unique, counts = np.unique(ws, return_counts=True)\n",
    "\n",
    "sizes = counts*100\n",
    "colors = ['blue']*len(edad_unique)\n",
    "colors[-1] = 'red'\n",
    "\n",
    "plt.axhline(1, color='k', linestyle='--')\n",
    "plt.scatter(edad_unique, np.ones(len(edad_unique)), s=sizes, color=colors)\n",
    "plt.yticks([])\n",
    "plt.title(\"age\")\n",
    "plt.show()"
   ]
  },
  {
   "cell_type": "code",
   "execution_count": 13,
   "metadata": {
    "colab": {
     "base_uri": "https://localhost:8080/",
     "height": 281
    },
    "id": "aakC5gEY7Dka",
    "outputId": "431bb533-9d90-4868-dbe5-31e5e4f81095"
   },
   "outputs": [
    {
     "data": {
      "image/png": "[encoded data removed]",
      "text/plain": [
       "<Figure size 432x288 with 1 Axes>"
      ]
     },
     "metadata": {
      "needs_background": "light"
     },
     "output_type": "display_data"
    }
   ],
   "source": [
    "#### Sex\n",
    "\n",
    "ws = np.array(df['sex'])\n",
    "edad_unique, counts = np.unique(ws, return_counts=True)\n",
    "\n",
    "sizes = counts*100\n",
    "colors = ['blue']*len(edad_unique)\n",
    "colors[-1] = 'red'\n",
    "\n",
    "plt.axhline(1, color='k', linestyle='--')\n",
    "plt.scatter(edad_unique, np.ones(len(edad_unique)), s=sizes, color=colors)\n",
    "plt.yticks([])\n",
    "plt.title(\"sex\")\n",
    "plt.show()"
   ]
  },
  {
   "cell_type": "code",
   "execution_count": 14,
   "metadata": {
    "colab": {
     "base_uri": "https://localhost:8080/",
     "height": 281
    },
    "id": "aP-nHWfj7aEM",
    "outputId": "7af2db97-e55a-45de-f58e-ddfc7c72cb6a"
   },
   "outputs": [
    {
     "data": {
      "image/png": "[encoded data removed]",
      "text/plain": [
       "<Figure size 432x288 with 1 Axes>"
      ]
     },
     "metadata": {
      "needs_background": "light"
     },
     "output_type": "display_data"
    }
   ],
   "source": [
    "#### Bmi\n",
    "\n",
    "ws = np.array(df['bmi'])\n",
    "edad_unique, counts = np.unique(ws, return_counts=True)\n",
    "\n",
    "sizes = counts*100\n",
    "colors = ['blue']*len(edad_unique)\n",
    "colors[-1] = 'red'\n",
    "\n",
    "plt.axhline(1, color='k', linestyle='--')\n",
    "plt.scatter(edad_unique, np.ones(len(edad_unique)), s=sizes, color=colors)\n",
    "plt.yticks([])\n",
    "plt.title(\"Bmi\")\n",
    "plt.show()"
   ]
  },
  {
   "cell_type": "code",
   "execution_count": 15,
   "metadata": {
    "colab": {
     "base_uri": "https://localhost:8080/",
     "height": 281
    },
    "id": "mrWCmnTP7h5_",
    "outputId": "0b23c8b9-416c-4052-e056-15dd32542d37"
   },
   "outputs": [
    {
     "data": {
      "image/png": "[encoded data removed]",
      "text/plain": [
       "<Figure size 432x288 with 1 Axes>"
      ]
     },
     "metadata": {
      "needs_background": "light"
     },
     "output_type": "display_data"
    }
   ],
   "source": [
    "#### Bp\n",
    "\n",
    "ws = np.array(df['bp'])\n",
    "edad_unique, counts = np.unique(ws, return_counts=True)\n",
    "\n",
    "sizes = counts*100\n",
    "colors = ['blue']*len(edad_unique)\n",
    "colors[-1] = 'red'\n",
    "\n",
    "plt.axhline(1, color='k', linestyle='--')\n",
    "plt.scatter(edad_unique, np.ones(len(edad_unique)), s=sizes, color=colors)\n",
    "plt.yticks([])\n",
    "plt.title(\"Bpb\")\n",
    "plt.show()"
   ]
  },
  {
   "cell_type": "code",
   "execution_count": 16,
   "metadata": {
    "colab": {
     "base_uri": "https://localhost:8080/",
     "height": 281
    },
    "id": "JpUzDiMQ7pzC",
    "outputId": "ae6e0b24-b57e-4af4-9444-68d69be28e71"
   },
   "outputs": [
    {
     "data": {
      "image/png": "[encoded data removed]",
      "text/plain": [
       "<Figure size 432x288 with 1 Axes>"
      ]
     },
     "metadata": {
      "needs_background": "light"
     },
     "output_type": "display_data"
    }
   ],
   "source": [
    "#### S1\n",
    "\n",
    "ws = np.array(df['s1'])\n",
    "edad_unique, counts = np.unique(ws, return_counts=True)\n",
    "\n",
    "sizes = counts*100\n",
    "colors = ['blue']*len(edad_unique)\n",
    "colors[-1] = 'red'\n",
    "\n",
    "plt.axhline(1, color='k', linestyle='--')\n",
    "plt.scatter(edad_unique, np.ones(len(edad_unique)), s=sizes, color=colors)\n",
    "plt.yticks([])\n",
    "plt.title(\"s1\")\n",
    "plt.show()"
   ]
  },
  {
   "cell_type": "code",
   "execution_count": 17,
   "metadata": {
    "colab": {
     "base_uri": "https://localhost:8080/",
     "height": 281
    },
    "id": "VHIRiyfK7v7h",
    "outputId": "0edacd10-cea8-464f-a7c5-0bb2076745dd"
   },
   "outputs": [
    {
     "data": {
      "image/png": "[encoded data removed]",
      "text/plain": [
       "<Figure size 432x288 with 1 Axes>"
      ]
     },
     "metadata": {
      "needs_background": "light"
     },
     "output_type": "display_data"
    }
   ],
   "source": [
    "#### S2\n",
    "\n",
    "ws = np.array(df['s2'])\n",
    "edad_unique, counts = np.unique(ws, return_counts=True)\n",
    "\n",
    "sizes = counts*100\n",
    "colors = ['blue']*len(edad_unique)\n",
    "colors[-1] = 'red'\n",
    "\n",
    "plt.axhline(1, color='k', linestyle='--')\n",
    "plt.scatter(edad_unique, np.ones(len(edad_unique)), s=sizes, color=colors)\n",
    "plt.yticks([])\n",
    "plt.title(\"s2\")\n",
    "plt.show()"
   ]
  },
  {
   "cell_type": "code",
   "execution_count": 18,
   "metadata": {
    "colab": {
     "base_uri": "https://localhost:8080/",
     "height": 281
    },
    "id": "UzoVptJ-71H8",
    "outputId": "319da3a9-1a5f-4493-aca3-6d670e3aebcd"
   },
   "outputs": [
    {
     "data": {
      "image/png": "[encoded data removed]",
      "text/plain": [
       "<Figure size 432x288 with 1 Axes>"
      ]
     },
     "metadata": {
      "needs_background": "light"
     },
     "output_type": "display_data"
    }
   ],
   "source": [
    "#### S3\n",
    "\n",
    "ws = np.array(df['s3'])\n",
    "edad_unique, counts = np.unique(ws, return_counts=True)\n",
    "\n",
    "sizes = counts*100\n",
    "colors = ['blue']*len(edad_unique)\n",
    "colors[-1] = 'red'\n",
    "\n",
    "plt.axhline(1, color='k', linestyle='--')\n",
    "plt.scatter(edad_unique, np.ones(len(edad_unique)), s=sizes, color=colors)\n",
    "plt.yticks([])\n",
    "plt.title(\"S3\")\n",
    "plt.show()"
   ]
  },
  {
   "cell_type": "code",
   "execution_count": 19,
   "metadata": {
    "colab": {
     "base_uri": "https://localhost:8080/",
     "height": 281
    },
    "id": "emGYG4-175vK",
    "outputId": "ae104675-13ce-4a88-cc93-d8121039ca73"
   },
   "outputs": [
    {
     "data": {
      "image/png": "[encoded data removed]",
      "text/plain": [
       "<Figure size 432x288 with 1 Axes>"
      ]
     },
     "metadata": {
      "needs_background": "light"
     },
     "output_type": "display_data"
    }
   ],
   "source": [
    "#### S4\n",
    "\n",
    "ws = np.array(df['s4'])\n",
    "edad_unique, counts = np.unique(ws, return_counts=True)\n",
    "\n",
    "sizes = counts*100\n",
    "colors = ['blue']*len(edad_unique)\n",
    "colors[-1] = 'red'\n",
    "\n",
    "plt.axhline(1, color='k', linestyle='--')\n",
    "plt.scatter(edad_unique, np.ones(len(edad_unique)), s=sizes, color=colors)\n",
    "plt.yticks([])\n",
    "plt.title(\"S4\")\n",
    "plt.show()"
   ]
  },
  {
   "cell_type": "code",
   "execution_count": 20,
   "metadata": {
    "colab": {
     "base_uri": "https://localhost:8080/",
     "height": 281
    },
    "id": "f-tFts_L8Boa",
    "outputId": "96de3b83-60c3-4ed6-9170-2c1e0e335579"
   },
   "outputs": [
    {
     "data": {
      "image/png": "[encoded data removed]",
      "text/plain": [
       "<Figure size 432x288 with 1 Axes>"
      ]
     },
     "metadata": {
      "needs_background": "light"
     },
     "output_type": "display_data"
    }
   ],
   "source": [
    "#### S5\n",
    "\n",
    "ws = np.array(df['s5'])\n",
    "edad_unique, counts = np.unique(ws, return_counts=True)\n",
    "\n",
    "sizes = counts*100\n",
    "colors = ['blue']*len(edad_unique)\n",
    "colors[-1] = 'red'\n",
    "\n",
    "plt.axhline(1, color='k', linestyle='--')\n",
    "plt.scatter(edad_unique, np.ones(len(edad_unique)), s=sizes, color=colors)\n",
    "plt.yticks([])\n",
    "plt.title(\"S5\")\n",
    "plt.show()"
   ]
  },
  {
   "cell_type": "code",
   "execution_count": 21,
   "metadata": {
    "colab": {
     "base_uri": "https://localhost:8080/",
     "height": 281
    },
    "id": "qBq8IijX8HTJ",
    "outputId": "167cd5e7-64c7-4eba-ee3f-7bd4976edbaa"
   },
   "outputs": [
    {
     "data": {
      "image/png": "[encoded data removed]",
      "text/plain": [
       "<Figure size 432x288 with 1 Axes>"
      ]
     },
     "metadata": {
      "needs_background": "light"
     },
     "output_type": "display_data"
    }
   ],
   "source": [
    "#### S6\n",
    "\n",
    "ws = np.array(df['s6'])\n",
    "edad_unique, counts = np.unique(ws, return_counts=True)\n",
    "\n",
    "sizes = counts*100\n",
    "colors = ['blue']*len(edad_unique)\n",
    "colors[-1] = 'red'\n",
    "\n",
    "plt.axhline(1, color='k', linestyle='--')\n",
    "plt.scatter(edad_unique, np.ones(len(edad_unique)), s=sizes, color=colors)\n",
    "plt.yticks([])\n",
    "plt.title(\"s6\")\n",
    "plt.show()"
   ]
  },
  {
   "cell_type": "markdown",
   "metadata": {
    "id": "ftbdmeVY8S4Z"
   },
   "source": [
    "Como hemos podido ver no existen valores outliers que puedan influir negativamente en las predicciones de los modelos. En el caso de elegir una variable en la exista algún valor outlier sería S4.  Con el fin evitar la su posible influencia eliminamos observaciones que contengan estos valores outliers."
   ]
  },
  {
   "cell_type": "markdown",
   "metadata": {
    "id": "rD0pKwKQ9RYJ"
   },
   "source": [
    "#### Eliminación valores outliers s4"
   ]
  },
  {
   "cell_type": "code",
   "execution_count": 23,
   "metadata": {
    "colab": {
     "base_uri": "https://localhost:8080/"
    },
    "id": "HJsB8nV49oPR",
    "outputId": "98e0708b-a251-4b12-81fb-e01e6dda790d"
   },
   "outputs": [
    {
     "name": "stdout",
     "output_type": "stream",
     "text": [
      "Int64Index([123], dtype='int64')\n"
     ]
    }
   ],
   "source": [
    "print(df[df['s4']  > 0.17].index)"
   ]
  },
  {
   "cell_type": "code",
   "execution_count": 24,
   "metadata": {
    "id": "cShsSIzV9W1V"
   },
   "outputs": [],
   "source": [
    "df_s4 = df.drop(df[df['s4']  > 0.17].index)"
   ]
  },
  {
   "cell_type": "markdown",
   "metadata": {
    "id": "uIT3tfAH90E5"
   },
   "source": [
    "Como vemos se ha eliminado una sola observación, por lo que es de suponer que el cambio en el conjunto de datos será mínimo."
   ]
  },
  {
   "cell_type": "markdown",
   "metadata": {
    "id": "JX-t00vxFi4t"
   },
   "source": [
    "### División del dataset en conjunto de entrenamiento y test"
   ]
  },
  {
   "cell_type": "code",
   "execution_count": 26,
   "metadata": {
    "id": "B6cz7E2JFpX3"
   },
   "outputs": [],
   "source": [
    "from sklearn.model_selection import train_test_split \n",
    "train_X, test_X, train_y, test_y = train_test_split(df_features, df['target'], test_size = 0.3)"
   ]
  },
  {
   "cell_type": "markdown",
   "metadata": {
    "id": "L2RWQ_cm-Dbx"
   },
   "source": [
    "### Creamos dos pipelines por cada modelo de regresión "
   ]
  },
  {
   "cell_type": "code",
   "execution_count": 28,
   "metadata": {
    "id": "5B9EVhsY-Xyl"
   },
   "outputs": [],
   "source": [
    "#### RandomForestRegressor\n",
    "pipe_pca_RF = Pipeline([('scaler', StandardScaler()), ('reduce_dim', PCA()),('classifier', RandomForestRegressor())])\n",
    "pipe_fs_RF = Pipeline([('scaler', StandardScaler()), ('reduce_dim', SelectKBest()), ('classifier', RandomForestRegressor())])"
   ]
  },
  {
   "cell_type": "code",
   "execution_count": 29,
   "metadata": {
    "id": "HBVbCMiu_mw1"
   },
   "outputs": [],
   "source": [
    "#### LinearRegression\n",
    "pipe_pca_LR = Pipeline([('scaler', StandardScaler()), ('reduce_dim', PCA()),('classifier', LinearRegression())])\n",
    "pipe_fs_LR = Pipeline([('scaler', StandardScaler()), ('reduce_dim', SelectKBest()), ('classifier', LinearRegression())])"
   ]
  },
  {
   "cell_type": "code",
   "execution_count": 30,
   "metadata": {
    "id": "pNTowOIIA8Xq"
   },
   "outputs": [],
   "source": [
    "#### GradientBoostingRegressor\n",
    "pipe_pca_GB = Pipeline([('scaler', StandardScaler()), ('reduce_dim', PCA()),('classifier', GradientBoostingRegressor())])\n",
    "pipe_fs_GB = Pipeline([('scaler', StandardScaler()), ('reduce_dim', SelectKBest()), ('classifier', GradientBoostingRegressor())])"
   ]
  },
  {
   "cell_type": "code",
   "execution_count": 31,
   "metadata": {
    "id": "19EmMIMFBaxj"
   },
   "outputs": [],
   "source": [
    "#### Parameters RandomForestRegressor\n",
    "parameters_pca_RF = {'scaler': [StandardScaler(), MinMaxScaler()],\n",
    "              'reduce_dim__n_components': [2, 4, 6], 'classifier__n_estimators':[10, 15, 20], 'classifier__min_samples_leaf':[2, 3, 4]  }\n",
    "parameters_fs_RF = {'scaler': [StandardScaler(), MinMaxScaler()],\n",
    "              'reduce_dim__k': [2, 3, 6], 'classifier__n_estimators':[10, 15, 20], 'classifier__min_samples_leaf':[2, 3, 4]}"
   ]
  },
  {
   "cell_type": "code",
   "execution_count": 32,
   "metadata": {
    "id": "-vYWQsZzBz02"
   },
   "outputs": [],
   "source": [
    "#### Parameters LinearRegression\n",
    "parameters_pca_LR = {'scaler': [StandardScaler(), MinMaxScaler()],\n",
    "              'reduce_dim__n_components': [2, 4, 6]}\n",
    "parameters_fs_LR = {'scaler': [StandardScaler(), MinMaxScaler()],\n",
    "              'reduce_dim__k': [2, 3, 6]}"
   ]
  },
  {
   "cell_type": "code",
   "execution_count": 33,
   "metadata": {
    "id": "xK6SE5OlCWeS"
   },
   "outputs": [],
   "source": [
    "#### Parameters GradientBoostingRegressor\n",
    "parameters_pca_GB = {'scaler': [StandardScaler(), MinMaxScaler()],\n",
    "              'reduce_dim__n_components': [2, 4, 6], 'classifier__n_estimators':[10, 15, 20], 'classifier__min_samples_leaf':[2, 3, 4],'classifier__learning_rate':[0.01,0.1,0.3] }\n",
    "parameters_fs_GB = {'scaler': [StandardScaler(), MinMaxScaler()],\n",
    "              'reduce_dim__k': [2, 3, 6], 'classifier__n_estimators':[10, 15, 20], 'classifier__min_samples_leaf':[2, 3, 4], 'classifier__learning_rate':[0.01,0.1,0.3]}"
   ]
  },
  {
   "cell_type": "markdown",
   "metadata": {
    "id": "P_UgBGthDzCL"
   },
   "source": [
    "### Aplicamos hiperparametrización GridSearch"
   ]
  },
  {
   "cell_type": "code",
   "execution_count": 35,
   "metadata": {
    "id": "yYXUvxN9D5i6"
   },
   "outputs": [],
   "source": [
    "#### GridSearch RandomForestRegressor\n",
    "grid_pca_RF = GridSearchCV(pipe_pca_RF, param_grid = parameters_pca_RF, scoring = 'neg_mean_squared_error' )\n",
    "grid_fs_RF = GridSearchCV(pipe_fs_RF, param_grid = parameters_fs_RF, scoring = 'neg_mean_squared_error' )"
   ]
  },
  {
   "cell_type": "code",
   "execution_count": 36,
   "metadata": {
    "id": "eHsr6k38FI9z"
   },
   "outputs": [],
   "source": [
    "#### Entrenamos el modelo\n",
    "grid_pca_RF.fit(train_X,train_y)\n",
    "grid_fs_RF.fit(train_X,train_y)\n",
    "y_pred_grid_pca_RF = grid_pca_RF.predict(test_X)\n",
    "y_pred_grid_fs_RF = grid_fs_RF.predict(test_X)"
   ]
  },
  {
   "cell_type": "code",
   "execution_count": 37,
   "metadata": {
    "id": "RHj51FmxEUsk"
   },
   "outputs": [],
   "source": [
    "#### GridSearch LinearRegressor\n",
    "grid_pca_LR = GridSearchCV(pipe_pca_LR, param_grid = parameters_pca_LR, scoring = 'neg_mean_squared_error' )\n",
    "grid_fs_LR = GridSearchCV(pipe_fs_LR, param_grid = parameters_fs_LR, scoring = 'neg_mean_squared_error' )"
   ]
  },
  {
   "cell_type": "code",
   "execution_count": 38,
   "metadata": {
    "id": "EEwV4KVYF-IM"
   },
   "outputs": [],
   "source": [
    "#### Entrenamos el modelo\n",
    "grid_pca_LR.fit(train_X,train_y)\n",
    "grid_fs_LR.fit(train_X,train_y)\n",
    "y_pred_grid_pca_LR = grid_pca_LR.predict(test_X)\n",
    "y_pred_grid_fs_LR = grid_fs_LR.predict(test_X)"
   ]
  },
  {
   "cell_type": "code",
   "execution_count": 39,
   "metadata": {
    "id": "JDn7XVPaE7x0"
   },
   "outputs": [],
   "source": [
    "#### GridSearch GradientBoostingRegressor\n",
    "grid_pca_GB = GridSearchCV(pipe_pca_GB, param_grid = parameters_pca_GB, scoring = 'neg_mean_squared_error' )\n",
    "grid_fs_GB = GridSearchCV(pipe_fs_GB, param_grid = parameters_fs_GB, scoring = 'neg_mean_squared_error' )"
   ]
  },
  {
   "cell_type": "code",
   "execution_count": 40,
   "metadata": {
    "id": "L-3rSqQYGHIY"
   },
   "outputs": [],
   "source": [
    "#### Entrenamos el modelo\n",
    "grid_pca_GB.fit(train_X,train_y)\n",
    "grid_fs_GB.fit(train_X,train_y)\n",
    "y_pred_grid_pca_GB = grid_pca_GB.predict(test_X)\n",
    "y_pred_grid_fs_GB = grid_fs_GB.predict(test_X)"
   ]
  },
  {
   "cell_type": "markdown",
   "metadata": {
    "id": "RUaS6KXxJdKU"
   },
   "source": [
    "### Resultados:"
   ]
  },
  {
   "cell_type": "markdown",
   "metadata": {
    "id": "ApvqejxiKBjc"
   },
   "source": [
    "#### Resultados RandomForestClassifier"
   ]
  },
  {
   "cell_type": "code",
   "execution_count": 43,
   "metadata": {},
   "outputs": [
    {
     "name": "stdout",
     "output_type": "stream",
     "text": [
      "r2 socre_pca_RF is 0.37554628222982267\n",
      "mean_sqrd_error_pca_RF is  3588.214214196371\n",
      "root_mean_squared_pca_RF error of is  59.901704601758794\n",
      "\n",
      "r2 socre_fs_RF is 0.36565289603302076\n",
      "mean_sqrd_error_fs_RF is  3645.0632455459836\n",
      "root_mean_squared_fs_RF error of is  60.374359172963345\n"
     ]
    }
   ],
   "source": [
    "score_pca_RF=r2_score(test_y, y_pred_grid_pca_RF)\n",
    "print('r2 socre_pca_RF is',score_pca_RF)\n",
    "print('mean_sqrd_error_pca_RF is ',mean_squared_error(test_y, y_pred_grid_pca_RF))\n",
    "print('root_mean_squared_pca_RF error of is ',np.sqrt(mean_squared_error(test_y, y_pred_grid_pca_RF)))\n",
    "print()\n",
    "score_fs_RF=r2_score(test_y, y_pred_grid_fs_RF)\n",
    "print('r2 socre_fs_RF is',score_fs_RF)\n",
    "print('mean_sqrd_error_fs_RF is ',mean_squared_error(test_y, y_pred_grid_fs_RF))\n",
    "print('root_mean_squared_fs_RF error of is ',np.sqrt(mean_squared_error(test_y, y_pred_grid_fs_RF)))"
   ]
  },
  {
   "cell_type": "code",
   "execution_count": 44,
   "metadata": {},
   "outputs": [
    {
     "data": {
      "image/png": "[encoded data removed]",
      "text/plain": [
       "<Figure size 432x288 with 1 Axes>"
      ]
     },
     "metadata": {
      "needs_background": "light"
     },
     "output_type": "display_data"
    }
   ],
   "source": [
    "df_results = pd.DataFrame()\n",
    "df_results['test_y'] = test_y\n",
    "df_results['pred_fs_RF'] = y_pred_grid_fs_RF\n",
    "\n",
    "sns.regplot(data=df_results, x='pred_fs_RF', y='test_y', ci=None)\n",
    "plt.ylim(bottom=0)\n",
    "plt.xlim(left=50)\n",
    "plt.show()"
   ]
  },
  {
   "cell_type": "markdown",
   "metadata": {
    "id": "ab1Ts-5_Kvt8"
   },
   "source": [
    "#### Resultados LinearRegressionClassifier"
   ]
  },
  {
   "cell_type": "code",
   "execution_count": 46,
   "metadata": {},
   "outputs": [
    {
     "name": "stdout",
     "output_type": "stream",
     "text": [
      "r2 socre_pca_LR is 0.4485564010212584\n",
      "mean_sqrd_error_pca_LR is  3168.686011268749\n",
      "root_mean_squared_pca_LR error of is  56.29108287525431\n",
      "\n",
      "r2 socre_fs_LR is 0.4182315021972792\n",
      "mean_sqrd_error_fs_LR is  3342.9378892026643\n",
      "root_mean_squared_fs_LR error of is  57.81814498237266\n"
     ]
    }
   ],
   "source": [
    "score_pca_LR=r2_score(test_y, y_pred_grid_pca_LR)\n",
    "print('r2 socre_pca_LR is',score_pca_LR)\n",
    "print('mean_sqrd_error_pca_LR is ',mean_squared_error(test_y, y_pred_grid_pca_LR))\n",
    "print('root_mean_squared_pca_LR error of is ',np.sqrt(mean_squared_error(test_y, y_pred_grid_pca_LR)))\n",
    "print()\n",
    "score_fs_LR=r2_score(test_y, y_pred_grid_fs_LR)\n",
    "print('r2 socre_fs_LR is',score_fs_LR)\n",
    "print('mean_sqrd_error_fs_LR is ',mean_squared_error(test_y, y_pred_grid_fs_LR))\n",
    "print('root_mean_squared_fs_LR error of is ',np.sqrt(mean_squared_error(test_y, y_pred_grid_fs_LR)))"
   ]
  },
  {
   "cell_type": "code",
   "execution_count": 47,
   "metadata": {},
   "outputs": [
    {
     "data": {
      "image/png": "[encoded data removed]",
      "text/plain": [
       "<Figure size 432x288 with 1 Axes>"
      ]
     },
     "metadata": {
      "needs_background": "light"
     },
     "output_type": "display_data"
    }
   ],
   "source": [
    "df_results = pd.DataFrame()\n",
    "df_results['test_y'] = test_y\n",
    "df_results['pred_fs_LR'] = y_pred_grid_fs_LR\n",
    "\n",
    "sns.regplot(data=df_results, x='pred_fs_LR', y='test_y', ci=None)\n",
    "plt.ylim(bottom=0)\n",
    "plt.xlim(left=50)\n",
    "plt.show()"
   ]
  },
  {
   "cell_type": "markdown",
   "metadata": {
    "id": "CvO7WUcGK5O7"
   },
   "source": [
    "#### Resultados GradientCoostingClassifier"
   ]
  },
  {
   "cell_type": "code",
   "execution_count": 49,
   "metadata": {
    "id": "xOdjGogbKaGb"
   },
   "outputs": [
    {
     "name": "stdout",
     "output_type": "stream",
     "text": [
      "r2 socre_pca_GB is 0.34018251355678597\n",
      "mean_sqrd_error_pca_GB is  3791.420270640804\n",
      "root_mean_squared_pca_GB error of is  61.57450990987102\n",
      "\n",
      "r2 socre_fs_GB is 0.3713750985104396\n",
      "mean_sqrd_error_fs_GB is  3612.1825248749587\n",
      "root_mean_squared_fs_GB error of is  60.10143529796072\n"
     ]
    }
   ],
   "source": [
    "score_pca_GB=r2_score(test_y, y_pred_grid_pca_GB)\n",
    "print('r2 socre_pca_GB is',score_pca_GB)\n",
    "print('mean_sqrd_error_pca_GB is ',mean_squared_error(test_y, y_pred_grid_pca_GB))\n",
    "print('root_mean_squared_pca_GB error of is ',np.sqrt(mean_squared_error(test_y, y_pred_grid_pca_GB)))\n",
    "print()\n",
    "score_fs_GB=r2_score(test_y, y_pred_grid_fs_GB)\n",
    "print('r2 socre_fs_GB is',score_fs_GB)\n",
    "print('mean_sqrd_error_fs_GB is ',mean_squared_error(test_y, y_pred_grid_fs_GB))\n",
    "print('root_mean_squared_fs_GB error of is ',np.sqrt(mean_squared_error(test_y, y_pred_grid_fs_GB)))"
   ]
  },
  {
   "cell_type": "code",
   "execution_count": 58,
   "metadata": {},
   "outputs": [
    {
     "data": {
      "image/png": "[encoded data removed]",
      "text/plain": [
       "<Figure size 432x288 with 1 Axes>"
      ]
     },
     "metadata": {
      "needs_background": "light"
     },
     "output_type": "display_data"
    }
   ],
   "source": [
    "df_results = pd.DataFrame()\n",
    "df_results['test_y'] = test_y\n",
    "df_results['pred_fs_GB'] = y_pred_grid_fs_GB\n",
    "\n",
    "sns.regplot(data=df_results, x='pred_fs_GB', y='test_y', ci=None)\n",
    "plt.ylim(bottom=0)\n",
    "plt.xlim(left=60)\n",
    "plt.show()"
   ]
  },
  {
   "cell_type": "markdown",
   "metadata": {
    "id": "_IArkVOYLOUX"
   },
   "source": [
    "### 2. Implementar un VotingRegressor conformado con los algoritmos anteriores."
   ]
  },
  {
   "cell_type": "code",
   "execution_count": 59,
   "metadata": {
    "id": "o0hUB_4PLgM0"
   },
   "outputs": [],
   "source": [
    "from sklearn.ensemble import VotingRegressor\n",
    "\n",
    "reg1 = GradientBoostingRegressor(random_state=1)\n",
    "reg2 = RandomForestRegressor(random_state=1)\n",
    "reg3 = LinearRegression()\n",
    "ereg = VotingRegressor(estimators=[('gb', reg1), ('rf', reg2), ('lr', reg3)])\n",
    "\n",
    "#### Creamos dos pipelines por cada modelo VotingRegressor\n",
    "pipe_pca_VR = Pipeline([('scaler', StandardScaler()), ('reduce_dim', PCA()),('classifier', ereg)])\n",
    "pipe_fs_VR = Pipeline([('scaler', StandardScaler()), ('reduce_dim', SelectKBest()), ('classifier', ereg)])\n",
    "\n",
    "\n",
    "### Parameters VotingRegressor\n",
    "parameters_pca_VR = {'scaler': [StandardScaler(), MinMaxScaler()],\n",
    "              'reduce_dim__n_components': [2, 4, 6], 'classifier__rf__min_samples_leaf':[2, 3, 4], 'classifier__gb__learning_rate':[0.01,0.1,0.3]  }\n",
    "parameters_fs_VR = {'scaler': [StandardScaler(), MinMaxScaler()],\n",
    "              'reduce_dim__k': [2, 3, 6], 'classifier__rf__min_samples_leaf':[2, 3, 4], 'classifier__gb__learning_rate':[0.01,0.1,0.3]}\n",
    "\n",
    "### GridSearch VotingRegressor\n",
    "grid_pca_VR = GridSearchCV(pipe_pca_VR, param_grid = parameters_pca_VR, scoring = 'neg_mean_squared_error' )\n",
    "grid_fs_VR = GridSearchCV(pipe_fs_VR, param_grid = parameters_fs_VR, scoring = 'neg_mean_squared_error' )\n",
    "\n",
    "#### Entrenamos el modelo\n",
    "grid_pca_VR.fit(train_X,train_y)\n",
    "grid_fs_VR.fit(train_X,train_y)\n",
    "y_pred_grid_pca_VR = grid_pca_VR.predict(test_X)\n",
    "y_pred_grid_fs_VR = grid_fs_VR.predict(test_X)\n"
   ]
  },
  {
   "cell_type": "markdown",
   "metadata": {
    "id": "FZclvKmqSuII"
   },
   "source": [
    "### Resultados VotingRegressor"
   ]
  },
  {
   "cell_type": "code",
   "execution_count": 60,
   "metadata": {
    "id": "iWqf56v9Szmf"
   },
   "outputs": [
    {
     "name": "stdout",
     "output_type": "stream",
     "text": [
      "r2 socre_pca_VR is 0.4365557884375406\n",
      "mean_sqrd_error_pca_VR is  3237.6435135248375\n",
      "root_mean_squared_pca_VR error of is  56.90029449418375\n",
      "\n",
      "r2 socre_fs_VR is 0.41420163754284667\n",
      "mean_sqrd_error_fs_VR is  3366.0941571899166\n",
      "root_mean_squared_fs_VR error of is  58.018050270497\n"
     ]
    }
   ],
   "source": [
    "score_pca_VR=r2_score(test_y, y_pred_grid_pca_VR)\n",
    "print('r2 socre_pca_VR is',score_pca_VR)\n",
    "print('mean_sqrd_error_pca_VR is ',mean_squared_error(test_y, y_pred_grid_pca_VR))\n",
    "print('root_mean_squared_pca_VR error of is ',np.sqrt(mean_squared_error(test_y, y_pred_grid_pca_VR)))\n",
    "print()\n",
    "score_fs_VR=r2_score(test_y, y_pred_grid_fs_VR)\n",
    "print('r2 socre_fs_VR is',score_fs_VR)\n",
    "print('mean_sqrd_error_fs_VR is ',mean_squared_error(test_y, y_pred_grid_fs_VR))\n",
    "print('root_mean_squared_fs_VR error of is ',np.sqrt(mean_squared_error(test_y, y_pred_grid_fs_VR)))"
   ]
  },
  {
   "cell_type": "code",
   "execution_count": 61,
   "metadata": {},
   "outputs": [],
   "source": [
    "df_results = pd.DataFrame()\n",
    "df_results['test_y'] = test_y\n",
    "df_results['pred_fs_VR'] = y_pred_grid_fs_VR"
   ]
  },
  {
   "cell_type": "code",
   "execution_count": 62,
   "metadata": {},
   "outputs": [
    {
     "data": {
      "image/png": "[encoded data removed]",
      "text/plain": [
       "<Figure size 432x288 with 1 Axes>"
      ]
     },
     "metadata": {
      "needs_background": "light"
     },
     "output_type": "display_data"
    }
   ],
   "source": [
    "sns.regplot(data=df_results, x='pred_fs_VR', y='test_y', ci=None)\n",
    "plt.ylim(bottom=0)\n",
    "plt.xlim(left=70)\n",
    "plt.show()"
   ]
  },
  {
   "cell_type": "markdown",
   "metadata": {},
   "source": [
    "### Conclusión:"
   ]
  },
  {
   "cell_type": "markdown",
   "metadata": {},
   "source": [
    "Como hemos visto los resultados no difieren en exceso entre los diferentes modelos. Si hemos notado que aquellos modelos en los que se ha aplicado PCA han realizado mejores predicciones. El error medio ha sido en el mejor de los casos de 56 puntos y en el peor de 61. Teniendo en cuenta el contexto de la situación en la que se aplicaría el modelo, podemos decir que los resultados no son buenos. Una posible opción de mejora en los resultados sería ampliar el rango de parámetros a optimizar o utilizar algoritmos de optimización. Destacamos la importancia de elegir la métrica de evaluación asociada a modelos de regresión en GridSearch. "
   ]
  }
 ],
 "metadata": {
  "colab": {
   "name": "TareaVotingRegressor_AlejandroDominguezRecio.ipynb",
   "provenance": []
  },
  "kernelspec": {
   "display_name": "Python 3",
   "language": "python",
   "name": "python3"
  },
  "language_info": {
   "codemirror_mode": {
    "name": "ipython",
    "version": 3
   },
   "file_extension": ".py",
   "mimetype": "text/x-python",
   "name": "python",
   "nbconvert_exporter": "python",
   "pygments_lexer": "ipython3",
   "version": "3.8.8"
  }
 },
 "nbformat": 4,
 "nbformat_minor": 1
}
