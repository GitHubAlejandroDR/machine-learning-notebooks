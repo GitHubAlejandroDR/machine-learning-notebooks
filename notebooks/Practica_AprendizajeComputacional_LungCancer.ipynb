{
 "cells": [
  {
   "attachments": {},
   "cell_type": "markdown",
   "id": "1a7bd545",
   "metadata": {},
   "source": [
    "# Práctica Aprendizaje Compacional - Lung Cancer"
   ]
  },
  {
   "attachments": {},
   "cell_type": "markdown",
   "id": "09db2ca4",
   "metadata": {},
   "source": [
    "# Description\n",
    "\n",
    "In this project supervised machine learning models were applied to lung cancer prognosis prediction. The dataset Lung Cancer Data downloaded from www.kaggle.com was used.\n",
    "\n",
    "# Objetives\n",
    "\n",
    "- Apply exploratory descriptive analysis (EDA)\n",
    "- Apply preprocessing data techniques\n",
    "- Apply scale data techniques\n",
    "- Adress class imbalance\n",
    "- Apply SVM, MLP, Adaboost and KNN models\n",
    "- Apply tuning hyperparameters techniques\n",
    "- Evaluate models\n",
    "- Evaluate results \n"
   ]
  },
  {
   "attachments": {},
   "cell_type": "markdown",
   "id": "0a79948f",
   "metadata": {},
   "source": [
    "## 1. Exploración inicial "
   ]
  },
  {
   "cell_type": "code",
   "execution_count": 1,
   "id": "1eac7f3b",
   "metadata": {},
   "outputs": [],
   "source": [
    "import pandas as pd\n",
    "from sklearn.model_selection import cross_val_score\n",
    "from sklearn.model_selection import train_test_split\n",
    "from numpy import mean\n",
    "from sklearn.metrics import *\n",
    "from sklearn.model_selection import GridSearchCV\n",
    "%matplotlib inline\n",
    "import matplotlib.pyplot as plt\n",
    "import seaborn as sns\n",
    "\n",
    "# Models\n",
    "from sklearn.neighbors import KNeighborsClassifier\n",
    "from sklearn.svm import SVC\n",
    "from sklearn.neural_network import MLPClassifier\n",
    "from sklearn.ensemble import AdaBoostClassifier\n"
   ]
  },
  {
   "cell_type": "code",
   "execution_count": 2,
   "id": "fd207754",
   "metadata": {},
   "outputs": [],
   "source": [
    "df = pd.read_csv('lung_cancer.csv')"
   ]
  },
  {
   "cell_type": "code",
   "execution_count": 3,
   "id": "e124d089",
   "metadata": {},
   "outputs": [
    {
     "data": {
      "text/plain": [
       "pandas.core.frame.DataFrame"
      ]
     },
     "execution_count": 3,
     "metadata": {},
     "output_type": "execute_result"
    }
   ],
   "source": [
    "type(df)"
   ]
  },
  {
   "attachments": {},
   "cell_type": "markdown",
   "id": "35e10ffb",
   "metadata": {},
   "source": [
    "#### Nombre de las variables"
   ]
  },
  {
   "cell_type": "code",
   "execution_count": 4,
   "id": "113475c3",
   "metadata": {},
   "outputs": [
    {
     "data": {
      "text/plain": [
       "array(['GENDER', 'AGE', 'SMOKING', 'YELLOW_FINGERS', 'ANXIETY',\n",
       "       'PEER_PRESSURE', 'CHRONIC DISEASE', 'FATIGUE ', 'ALLERGY ',\n",
       "       'WHEEZING', 'ALCOHOL CONSUMING', 'COUGHING', 'SHORTNESS OF BREATH',\n",
       "       'SWALLOWING DIFFICULTY', 'CHEST PAIN', 'LUNG_CANCER'], dtype=object)"
      ]
     },
     "execution_count": 4,
     "metadata": {},
     "output_type": "execute_result"
    }
   ],
   "source": [
    "df.columns.values"
   ]
  },
  {
   "attachments": {},
   "cell_type": "markdown",
   "id": "8fe6ea53",
   "metadata": {},
   "source": [
    "#### Visualizamos las cinco primeras filas del dataset"
   ]
  },
  {
   "cell_type": "code",
   "execution_count": 5,
   "id": "21c23e74",
   "metadata": {},
   "outputs": [
    {
     "data": {
      "text/html": [
       "<div>\n",
       "<style scoped>\n",
       "    .dataframe tbody tr th:only-of-type {\n",
       "        vertical-align: middle;\n",
       "    }\n",
       "\n",
       "    .dataframe tbody tr th {\n",
       "        vertical-align: top;\n",
       "    }\n",
       "\n",
       "    .dataframe thead th {\n",
       "        text-align: right;\n",
       "    }\n",
       "</style>\n",
       "<table border=\"1\" class=\"dataframe\">\n",
       "  <thead>\n",
       "    <tr style=\"text-align: right;\">\n",
       "      <th></th>\n",
       "      <th>GENDER</th>\n",
       "      <th>AGE</th>\n",
       "      <th>SMOKING</th>\n",
       "      <th>YELLOW_FINGERS</th>\n",
       "      <th>ANXIETY</th>\n",
       "      <th>PEER_PRESSURE</th>\n",
       "      <th>CHRONIC DISEASE</th>\n",
       "      <th>FATIGUE</th>\n",
       "      <th>ALLERGY</th>\n",
       "      <th>WHEEZING</th>\n",
       "      <th>ALCOHOL CONSUMING</th>\n",
       "      <th>COUGHING</th>\n",
       "      <th>SHORTNESS OF BREATH</th>\n",
       "      <th>SWALLOWING DIFFICULTY</th>\n",
       "      <th>CHEST PAIN</th>\n",
       "      <th>LUNG_CANCER</th>\n",
       "    </tr>\n",
       "  </thead>\n",
       "  <tbody>\n",
       "    <tr>\n",
       "      <th>0</th>\n",
       "      <td>M</td>\n",
       "      <td>69</td>\n",
       "      <td>1</td>\n",
       "      <td>2</td>\n",
       "      <td>2</td>\n",
       "      <td>1</td>\n",
       "      <td>1</td>\n",
       "      <td>2</td>\n",
       "      <td>1</td>\n",
       "      <td>2</td>\n",
       "      <td>2</td>\n",
       "      <td>2</td>\n",
       "      <td>2</td>\n",
       "      <td>2</td>\n",
       "      <td>2</td>\n",
       "      <td>YES</td>\n",
       "    </tr>\n",
       "    <tr>\n",
       "      <th>1</th>\n",
       "      <td>M</td>\n",
       "      <td>74</td>\n",
       "      <td>2</td>\n",
       "      <td>1</td>\n",
       "      <td>1</td>\n",
       "      <td>1</td>\n",
       "      <td>2</td>\n",
       "      <td>2</td>\n",
       "      <td>2</td>\n",
       "      <td>1</td>\n",
       "      <td>1</td>\n",
       "      <td>1</td>\n",
       "      <td>2</td>\n",
       "      <td>2</td>\n",
       "      <td>2</td>\n",
       "      <td>YES</td>\n",
       "    </tr>\n",
       "    <tr>\n",
       "      <th>2</th>\n",
       "      <td>F</td>\n",
       "      <td>59</td>\n",
       "      <td>1</td>\n",
       "      <td>1</td>\n",
       "      <td>1</td>\n",
       "      <td>2</td>\n",
       "      <td>1</td>\n",
       "      <td>2</td>\n",
       "      <td>1</td>\n",
       "      <td>2</td>\n",
       "      <td>1</td>\n",
       "      <td>2</td>\n",
       "      <td>2</td>\n",
       "      <td>1</td>\n",
       "      <td>2</td>\n",
       "      <td>NO</td>\n",
       "    </tr>\n",
       "    <tr>\n",
       "      <th>3</th>\n",
       "      <td>M</td>\n",
       "      <td>63</td>\n",
       "      <td>2</td>\n",
       "      <td>2</td>\n",
       "      <td>2</td>\n",
       "      <td>1</td>\n",
       "      <td>1</td>\n",
       "      <td>1</td>\n",
       "      <td>1</td>\n",
       "      <td>1</td>\n",
       "      <td>2</td>\n",
       "      <td>1</td>\n",
       "      <td>1</td>\n",
       "      <td>2</td>\n",
       "      <td>2</td>\n",
       "      <td>NO</td>\n",
       "    </tr>\n",
       "    <tr>\n",
       "      <th>4</th>\n",
       "      <td>F</td>\n",
       "      <td>63</td>\n",
       "      <td>1</td>\n",
       "      <td>2</td>\n",
       "      <td>1</td>\n",
       "      <td>1</td>\n",
       "      <td>1</td>\n",
       "      <td>1</td>\n",
       "      <td>1</td>\n",
       "      <td>2</td>\n",
       "      <td>1</td>\n",
       "      <td>2</td>\n",
       "      <td>2</td>\n",
       "      <td>1</td>\n",
       "      <td>1</td>\n",
       "      <td>NO</td>\n",
       "    </tr>\n",
       "  </tbody>\n",
       "</table>\n",
       "</div>"
      ],
      "text/plain": [
       "  GENDER  AGE  SMOKING  YELLOW_FINGERS  ANXIETY  PEER_PRESSURE  \\\n",
       "0      M   69        1               2        2              1   \n",
       "1      M   74        2               1        1              1   \n",
       "2      F   59        1               1        1              2   \n",
       "3      M   63        2               2        2              1   \n",
       "4      F   63        1               2        1              1   \n",
       "\n",
       "   CHRONIC DISEASE  FATIGUE   ALLERGY   WHEEZING  ALCOHOL CONSUMING  COUGHING  \\\n",
       "0                1         2         1         2                  2         2   \n",
       "1                2         2         2         1                  1         1   \n",
       "2                1         2         1         2                  1         2   \n",
       "3                1         1         1         1                  2         1   \n",
       "4                1         1         1         2                  1         2   \n",
       "\n",
       "   SHORTNESS OF BREATH  SWALLOWING DIFFICULTY  CHEST PAIN LUNG_CANCER  \n",
       "0                    2                      2           2         YES  \n",
       "1                    2                      2           2         YES  \n",
       "2                    2                      1           2          NO  \n",
       "3                    1                      2           2          NO  \n",
       "4                    2                      1           1          NO  "
      ]
     },
     "execution_count": 5,
     "metadata": {},
     "output_type": "execute_result"
    }
   ],
   "source": [
    "df.head()"
   ]
  },
  {
   "attachments": {},
   "cell_type": "markdown",
   "id": "531fc16a",
   "metadata": {},
   "source": [
    "### Renombramos la variable LUNG_CANCER como Target"
   ]
  },
  {
   "cell_type": "code",
   "execution_count": 6,
   "id": "3b690a7c",
   "metadata": {},
   "outputs": [],
   "source": [
    "df = df.rename(columns={'LUNG_CANCER':'Target'})"
   ]
  },
  {
   "attachments": {},
   "cell_type": "markdown",
   "id": "3136a61c",
   "metadata": {},
   "source": [
    "#### Lectura de la variable \"target\""
   ]
  },
  {
   "cell_type": "code",
   "execution_count": 7,
   "id": "a5b2a62e",
   "metadata": {},
   "outputs": [
    {
     "data": {
      "text/plain": [
       "YES    270\n",
       "NO      39\n",
       "Name: Target, dtype: int64"
      ]
     },
     "execution_count": 7,
     "metadata": {},
     "output_type": "execute_result"
    }
   ],
   "source": [
    "df['Target'].value_counts()\n",
    "# YES : Lung Cancer Positive\n",
    "# NO : Lung Cancer Negative"
   ]
  },
  {
   "attachments": {},
   "cell_type": "markdown",
   "id": "c0b7377c",
   "metadata": {},
   "source": [
    "Por la proporción de las clases determinamos que **existe desbalanceo** de clases en nuestro dataset."
   ]
  },
  {
   "attachments": {},
   "cell_type": "markdown",
   "id": "8aaf86a0",
   "metadata": {},
   "source": [
    "#### Metadatos "
   ]
  },
  {
   "cell_type": "code",
   "execution_count": 8,
   "id": "9de0d380",
   "metadata": {},
   "outputs": [
    {
     "name": "stdout",
     "output_type": "stream",
     "text": [
      "<class 'pandas.core.frame.DataFrame'>\n",
      "RangeIndex: 309 entries, 0 to 308\n",
      "Data columns (total 16 columns):\n",
      " #   Column                 Non-Null Count  Dtype \n",
      "---  ------                 --------------  ----- \n",
      " 0   GENDER                 309 non-null    object\n",
      " 1   AGE                    309 non-null    int64 \n",
      " 2   SMOKING                309 non-null    int64 \n",
      " 3   YELLOW_FINGERS         309 non-null    int64 \n",
      " 4   ANXIETY                309 non-null    int64 \n",
      " 5   PEER_PRESSURE          309 non-null    int64 \n",
      " 6   CHRONIC DISEASE        309 non-null    int64 \n",
      " 7   FATIGUE                309 non-null    int64 \n",
      " 8   ALLERGY                309 non-null    int64 \n",
      " 9   WHEEZING               309 non-null    int64 \n",
      " 10  ALCOHOL CONSUMING      309 non-null    int64 \n",
      " 11  COUGHING               309 non-null    int64 \n",
      " 12  SHORTNESS OF BREATH    309 non-null    int64 \n",
      " 13  SWALLOWING DIFFICULTY  309 non-null    int64 \n",
      " 14  CHEST PAIN             309 non-null    int64 \n",
      " 15  Target                 309 non-null    object\n",
      "dtypes: int64(14), object(2)\n",
      "memory usage: 38.8+ KB\n"
     ]
    }
   ],
   "source": [
    "df.info()"
   ]
  },
  {
   "attachments": {},
   "cell_type": "markdown",
   "id": "ef0a63bd",
   "metadata": {},
   "source": [
    "Exceptuando GENDER el resto de variables son de tipo númerico. \n",
    "\n",
    "Posteriormente procederemos a codificar GENDER. \n",
    "\n",
    "La codificación de variables categoricas es necesario para poder aplicar sobre estos los distintos modelos de machine learning."
   ]
  },
  {
   "attachments": {},
   "cell_type": "markdown",
   "id": "ef112f46",
   "metadata": {},
   "source": [
    "#### Información estadística del dataset"
   ]
  },
  {
   "cell_type": "code",
   "execution_count": 9,
   "id": "990d8cdd",
   "metadata": {},
   "outputs": [
    {
     "data": {
      "text/html": [
       "<div>\n",
       "<style scoped>\n",
       "    .dataframe tbody tr th:only-of-type {\n",
       "        vertical-align: middle;\n",
       "    }\n",
       "\n",
       "    .dataframe tbody tr th {\n",
       "        vertical-align: top;\n",
       "    }\n",
       "\n",
       "    .dataframe thead th {\n",
       "        text-align: right;\n",
       "    }\n",
       "</style>\n",
       "<table border=\"1\" class=\"dataframe\">\n",
       "  <thead>\n",
       "    <tr style=\"text-align: right;\">\n",
       "      <th></th>\n",
       "      <th>AGE</th>\n",
       "      <th>SMOKING</th>\n",
       "      <th>YELLOW_FINGERS</th>\n",
       "      <th>ANXIETY</th>\n",
       "      <th>PEER_PRESSURE</th>\n",
       "      <th>CHRONIC DISEASE</th>\n",
       "      <th>FATIGUE</th>\n",
       "      <th>ALLERGY</th>\n",
       "      <th>WHEEZING</th>\n",
       "      <th>ALCOHOL CONSUMING</th>\n",
       "      <th>COUGHING</th>\n",
       "      <th>SHORTNESS OF BREATH</th>\n",
       "      <th>SWALLOWING DIFFICULTY</th>\n",
       "      <th>CHEST PAIN</th>\n",
       "    </tr>\n",
       "  </thead>\n",
       "  <tbody>\n",
       "    <tr>\n",
       "      <th>count</th>\n",
       "      <td>309.000000</td>\n",
       "      <td>309.000000</td>\n",
       "      <td>309.000000</td>\n",
       "      <td>309.000000</td>\n",
       "      <td>309.000000</td>\n",
       "      <td>309.000000</td>\n",
       "      <td>309.000000</td>\n",
       "      <td>309.000000</td>\n",
       "      <td>309.000000</td>\n",
       "      <td>309.000000</td>\n",
       "      <td>309.000000</td>\n",
       "      <td>309.000000</td>\n",
       "      <td>309.000000</td>\n",
       "      <td>309.000000</td>\n",
       "    </tr>\n",
       "    <tr>\n",
       "      <th>mean</th>\n",
       "      <td>62.673139</td>\n",
       "      <td>1.563107</td>\n",
       "      <td>1.569579</td>\n",
       "      <td>1.498382</td>\n",
       "      <td>1.501618</td>\n",
       "      <td>1.504854</td>\n",
       "      <td>1.673139</td>\n",
       "      <td>1.556634</td>\n",
       "      <td>1.556634</td>\n",
       "      <td>1.556634</td>\n",
       "      <td>1.579288</td>\n",
       "      <td>1.640777</td>\n",
       "      <td>1.469256</td>\n",
       "      <td>1.556634</td>\n",
       "    </tr>\n",
       "    <tr>\n",
       "      <th>std</th>\n",
       "      <td>8.210301</td>\n",
       "      <td>0.496806</td>\n",
       "      <td>0.495938</td>\n",
       "      <td>0.500808</td>\n",
       "      <td>0.500808</td>\n",
       "      <td>0.500787</td>\n",
       "      <td>0.469827</td>\n",
       "      <td>0.497588</td>\n",
       "      <td>0.497588</td>\n",
       "      <td>0.497588</td>\n",
       "      <td>0.494474</td>\n",
       "      <td>0.480551</td>\n",
       "      <td>0.499863</td>\n",
       "      <td>0.497588</td>\n",
       "    </tr>\n",
       "    <tr>\n",
       "      <th>min</th>\n",
       "      <td>21.000000</td>\n",
       "      <td>1.000000</td>\n",
       "      <td>1.000000</td>\n",
       "      <td>1.000000</td>\n",
       "      <td>1.000000</td>\n",
       "      <td>1.000000</td>\n",
       "      <td>1.000000</td>\n",
       "      <td>1.000000</td>\n",
       "      <td>1.000000</td>\n",
       "      <td>1.000000</td>\n",
       "      <td>1.000000</td>\n",
       "      <td>1.000000</td>\n",
       "      <td>1.000000</td>\n",
       "      <td>1.000000</td>\n",
       "    </tr>\n",
       "    <tr>\n",
       "      <th>25%</th>\n",
       "      <td>57.000000</td>\n",
       "      <td>1.000000</td>\n",
       "      <td>1.000000</td>\n",
       "      <td>1.000000</td>\n",
       "      <td>1.000000</td>\n",
       "      <td>1.000000</td>\n",
       "      <td>1.000000</td>\n",
       "      <td>1.000000</td>\n",
       "      <td>1.000000</td>\n",
       "      <td>1.000000</td>\n",
       "      <td>1.000000</td>\n",
       "      <td>1.000000</td>\n",
       "      <td>1.000000</td>\n",
       "      <td>1.000000</td>\n",
       "    </tr>\n",
       "    <tr>\n",
       "      <th>50%</th>\n",
       "      <td>62.000000</td>\n",
       "      <td>2.000000</td>\n",
       "      <td>2.000000</td>\n",
       "      <td>1.000000</td>\n",
       "      <td>2.000000</td>\n",
       "      <td>2.000000</td>\n",
       "      <td>2.000000</td>\n",
       "      <td>2.000000</td>\n",
       "      <td>2.000000</td>\n",
       "      <td>2.000000</td>\n",
       "      <td>2.000000</td>\n",
       "      <td>2.000000</td>\n",
       "      <td>1.000000</td>\n",
       "      <td>2.000000</td>\n",
       "    </tr>\n",
       "    <tr>\n",
       "      <th>75%</th>\n",
       "      <td>69.000000</td>\n",
       "      <td>2.000000</td>\n",
       "      <td>2.000000</td>\n",
       "      <td>2.000000</td>\n",
       "      <td>2.000000</td>\n",
       "      <td>2.000000</td>\n",
       "      <td>2.000000</td>\n",
       "      <td>2.000000</td>\n",
       "      <td>2.000000</td>\n",
       "      <td>2.000000</td>\n",
       "      <td>2.000000</td>\n",
       "      <td>2.000000</td>\n",
       "      <td>2.000000</td>\n",
       "      <td>2.000000</td>\n",
       "    </tr>\n",
       "    <tr>\n",
       "      <th>max</th>\n",
       "      <td>87.000000</td>\n",
       "      <td>2.000000</td>\n",
       "      <td>2.000000</td>\n",
       "      <td>2.000000</td>\n",
       "      <td>2.000000</td>\n",
       "      <td>2.000000</td>\n",
       "      <td>2.000000</td>\n",
       "      <td>2.000000</td>\n",
       "      <td>2.000000</td>\n",
       "      <td>2.000000</td>\n",
       "      <td>2.000000</td>\n",
       "      <td>2.000000</td>\n",
       "      <td>2.000000</td>\n",
       "      <td>2.000000</td>\n",
       "    </tr>\n",
       "  </tbody>\n",
       "</table>\n",
       "</div>"
      ],
      "text/plain": [
       "              AGE     SMOKING  YELLOW_FINGERS     ANXIETY  PEER_PRESSURE  \\\n",
       "count  309.000000  309.000000      309.000000  309.000000     309.000000   \n",
       "mean    62.673139    1.563107        1.569579    1.498382       1.501618   \n",
       "std      8.210301    0.496806        0.495938    0.500808       0.500808   \n",
       "min     21.000000    1.000000        1.000000    1.000000       1.000000   \n",
       "25%     57.000000    1.000000        1.000000    1.000000       1.000000   \n",
       "50%     62.000000    2.000000        2.000000    1.000000       2.000000   \n",
       "75%     69.000000    2.000000        2.000000    2.000000       2.000000   \n",
       "max     87.000000    2.000000        2.000000    2.000000       2.000000   \n",
       "\n",
       "       CHRONIC DISEASE    FATIGUE     ALLERGY     WHEEZING  ALCOHOL CONSUMING  \\\n",
       "count       309.000000  309.000000  309.000000  309.000000         309.000000   \n",
       "mean          1.504854    1.673139    1.556634    1.556634           1.556634   \n",
       "std           0.500787    0.469827    0.497588    0.497588           0.497588   \n",
       "min           1.000000    1.000000    1.000000    1.000000           1.000000   \n",
       "25%           1.000000    1.000000    1.000000    1.000000           1.000000   \n",
       "50%           2.000000    2.000000    2.000000    2.000000           2.000000   \n",
       "75%           2.000000    2.000000    2.000000    2.000000           2.000000   \n",
       "max           2.000000    2.000000    2.000000    2.000000           2.000000   \n",
       "\n",
       "         COUGHING  SHORTNESS OF BREATH  SWALLOWING DIFFICULTY  CHEST PAIN  \n",
       "count  309.000000           309.000000             309.000000  309.000000  \n",
       "mean     1.579288             1.640777               1.469256    1.556634  \n",
       "std      0.494474             0.480551               0.499863    0.497588  \n",
       "min      1.000000             1.000000               1.000000    1.000000  \n",
       "25%      1.000000             1.000000               1.000000    1.000000  \n",
       "50%      2.000000             2.000000               1.000000    2.000000  \n",
       "75%      2.000000             2.000000               2.000000    2.000000  \n",
       "max      2.000000             2.000000               2.000000    2.000000  "
      ]
     },
     "execution_count": 9,
     "metadata": {},
     "output_type": "execute_result"
    }
   ],
   "source": [
    "df.describe()"
   ]
  },
  {
   "attachments": {},
   "cell_type": "markdown",
   "id": "10fa66b3",
   "metadata": {},
   "source": [
    "Exceptuando la variable Edad, el resto de varibles se situan en el mismo rango. \n",
    "\n",
    "Aún siendo una sola variable la que se encuentra en un rango distinto, podría tener un efecto no deseado en las predicciones de los algoritmos aplicados. Tendremos esto último en cuenta en el procesamiento de datos."
   ]
  },
  {
   "attachments": {},
   "cell_type": "markdown",
   "id": "ff535964",
   "metadata": {},
   "source": [
    "#### Mapa de calor para visualizar las correlaciones entre variables"
   ]
  },
  {
   "cell_type": "code",
   "execution_count": 10,
   "id": "665ce482",
   "metadata": {},
   "outputs": [
    {
     "data": {
      "image/png": "[encoded data removed]",
      "text/plain": [
       "<Figure size 936x720 with 2 Axes>"
      ]
     },
     "metadata": {},
     "output_type": "display_data"
    }
   ],
   "source": [
    "sns.set_style('darkgrid')\n",
    "sns.set(font_scale=1.5)\n",
    "\n",
    "\n",
    "corr = df.corr()\n",
    "_, ax = plt.subplots(figsize=(13,10)) \n",
    "\n",
    "# graph correlation matrix\n",
    "_ = sns.heatmap(corr, ax=ax,\n",
    "                xticklabels=corr.columns.values,\n",
    "                yticklabels=corr.columns.values,\n",
    "                cmap='coolwarm')"
   ]
  },
  {
   "attachments": {},
   "cell_type": "markdown",
   "id": "5e0494c6",
   "metadata": {},
   "source": [
    "A través de mapa de calor de correlaciones podemos ver el grado de influencia que tiene una variable respecto de otra.\n",
    "\n",
    "En relación a la variable Target vemos como algunas variables tienen mas influencia que otras en su resultado. Concretamente podemos ver una mayor influencia de las variables ALLERGY, ALCOHOL CONSUMING Y COUGHING sobre Target. "
   ]
  },
  {
   "cell_type": "code",
   "execution_count": 11,
   "id": "82225388",
   "metadata": {},
   "outputs": [],
   "source": [
    "#### Codificamos variables categoricas"
   ]
  },
  {
   "cell_type": "code",
   "execution_count": 12,
   "id": "9c8ffa2d",
   "metadata": {},
   "outputs": [],
   "source": [
    "dummies = pd.get_dummies(df.GENDER, prefix='GENDER' )\n",
    "df = pd.concat([df,dummies], axis='columns')\n",
    "df = df.drop(['GENDER'], axis = 'columns')\n",
    "\n",
    "df['Target'].replace(['YES', 'NO'], [1,0], inplace=True)"
   ]
  },
  {
   "attachments": {},
   "cell_type": "markdown",
   "id": "96d96822",
   "metadata": {},
   "source": [
    "#### Dimensiones del dataset"
   ]
  },
  {
   "cell_type": "code",
   "execution_count": 13,
   "id": "b6c23b77",
   "metadata": {},
   "outputs": [
    {
     "data": {
      "text/plain": [
       "(309, 17)"
      ]
     },
     "execution_count": 13,
     "metadata": {},
     "output_type": "execute_result"
    }
   ],
   "source": [
    "df.shape"
   ]
  },
  {
   "attachments": {},
   "cell_type": "markdown",
   "id": "0b052ef1",
   "metadata": {},
   "source": [
    "## 2. Pre-procesamiento "
   ]
  },
  {
   "attachments": {},
   "cell_type": "markdown",
   "id": "d6a7a176",
   "metadata": {},
   "source": [
    "#### Suma de valores nulos en las variables"
   ]
  },
  {
   "cell_type": "code",
   "execution_count": 14,
   "id": "b038d4aa",
   "metadata": {},
   "outputs": [
    {
     "data": {
      "text/plain": [
       "AGE                      0\n",
       "SMOKING                  0\n",
       "YELLOW_FINGERS           0\n",
       "ANXIETY                  0\n",
       "PEER_PRESSURE            0\n",
       "CHRONIC DISEASE          0\n",
       "FATIGUE                  0\n",
       "ALLERGY                  0\n",
       "WHEEZING                 0\n",
       "ALCOHOL CONSUMING        0\n",
       "COUGHING                 0\n",
       "SHORTNESS OF BREATH      0\n",
       "SWALLOWING DIFFICULTY    0\n",
       "CHEST PAIN               0\n",
       "Target                   0\n",
       "GENDER_F                 0\n",
       "GENDER_M                 0\n",
       "dtype: int64"
      ]
     },
     "execution_count": 14,
     "metadata": {},
     "output_type": "execute_result"
    }
   ],
   "source": [
    "df.isnull().sum()"
   ]
  },
  {
   "attachments": {},
   "cell_type": "markdown",
   "id": "3e4dd307",
   "metadata": {},
   "source": [
    "La ausencia de valores nulos evita que tengamos que aplicar técnicas de imputación sobre el dataset."
   ]
  },
  {
   "attachments": {},
   "cell_type": "markdown",
   "id": "f3bd7c0b",
   "metadata": {},
   "source": [
    "## 3. Preparación de los datos"
   ]
  },
  {
   "attachments": {},
   "cell_type": "markdown",
   "id": "c943d9d6",
   "metadata": {},
   "source": [
    "#### Separamos conjunto de training y test"
   ]
  },
  {
   "cell_type": "code",
   "execution_count": 15,
   "id": "edfa028e",
   "metadata": {},
   "outputs": [
    {
     "name": "stderr",
     "output_type": "stream",
     "text": [
      "<ipython-input-15-e64f32f0bcf4>:3: UserWarning: Pandas doesn't allow columns to be created via a new attribute name - see https://pandas.pydata.org/pandas-docs/stable/indexing.html#attribute-access\n",
      "  df.features = df.drop(['Target'], axis=1)\n"
     ]
    }
   ],
   "source": [
    "df.features = df.drop(['Target'], axis=1)\n",
    "X = df.features\n",
    "y = df['Target']\n",
    "\n",
    "train_X, test_X, train_y, test_y = train_test_split(X, y, test_size=0.30, random_state = 20, stratify=y)"
   ]
  },
  {
   "attachments": {},
   "cell_type": "markdown",
   "id": "938b800a",
   "metadata": {},
   "source": [
    "Dividimos el conjunto de datos en training 70% y test 30%. La distribución de las clases es estratificada."
   ]
  },
  {
   "cell_type": "code",
   "execution_count": 16,
   "id": "2776dafe",
   "metadata": {},
   "outputs": [
    {
     "name": "stdout",
     "output_type": "stream",
     "text": [
      "Distribución clases training\n"
     ]
    },
    {
     "data": {
      "text/plain": [
       "1    189\n",
       "0     27\n",
       "Name: Target, dtype: int64"
      ]
     },
     "execution_count": 16,
     "metadata": {},
     "output_type": "execute_result"
    }
   ],
   "source": [
    "print('Distribución clases training')\n",
    "train_y.value_counts()"
   ]
  },
  {
   "cell_type": "code",
   "execution_count": 17,
   "id": "f1aac315",
   "metadata": {},
   "outputs": [
    {
     "name": "stdout",
     "output_type": "stream",
     "text": [
      "Distribución clases test\n"
     ]
    },
    {
     "data": {
      "text/plain": [
       "1    81\n",
       "0    12\n",
       "Name: Target, dtype: int64"
      ]
     },
     "execution_count": 17,
     "metadata": {},
     "output_type": "execute_result"
    }
   ],
   "source": [
    "print('Distribución clases test')\n",
    "test_y.value_counts()"
   ]
  },
  {
   "attachments": {},
   "cell_type": "markdown",
   "id": "e67890ef",
   "metadata": {},
   "source": [
    "#### Estandarización de los datos"
   ]
  },
  {
   "cell_type": "code",
   "execution_count": 18,
   "id": "1dffd5e6",
   "metadata": {},
   "outputs": [],
   "source": [
    "import numpy as np\n",
    "from sklearn.preprocessing import StandardScaler\n",
    "\n",
    "ss = StandardScaler()\n",
    "train_X_st = ss.fit_transform(train_X)\n",
    "test_X_st = ss.transform(test_X)"
   ]
  },
  {
   "attachments": {},
   "cell_type": "markdown",
   "id": "bf6f804a",
   "metadata": {},
   "source": [
    "Como mencinamos anteriormente la variable EDAD tiene un rango de valores distinto al resto pudiendo provocar bias hacia esta variable. Con la estandarización evitamos la influencia de la variable EDAD. "
   ]
  },
  {
   "attachments": {},
   "cell_type": "markdown",
   "id": "d4091fea",
   "metadata": {},
   "source": [
    "#### Tratamiento desbalanceo de clases\n",
    "\n",
    "Con el tratamiento del desbalance de clases evitamos que los modelos aprendan en 'exceso' de la clase mayoritaria y por generalizen erróneamente.\n",
    "\n",
    "##### SMOTE-TOMEK\n",
    "\n",
    "\n",
    "Con las muestras sintéticas generadas por SMOTE-TOMEK evitamos que el algoritmo aprenda de copias de las instancias ya existentes y por consiguiente propiciando overfitting. Con SMOTE-TOMEK las muestras generadas son determinadas a partir de las instancias más cercanas del grupo minoritario añadiendo instancias en una linea recta entre estos. Con TOMEK aplica undersampling mejorando los limites de decisión del conjunto de datos."
   ]
  },
  {
   "cell_type": "code",
   "execution_count": 19,
   "id": "b748a0ae",
   "metadata": {},
   "outputs": [
    {
     "name": "stdout",
     "output_type": "stream",
     "text": [
      "Before SMOTE-TOMEK\n"
     ]
    },
    {
     "data": {
      "text/plain": [
       "1    189\n",
       "0     27\n",
       "Name: Target, dtype: int64"
      ]
     },
     "execution_count": 19,
     "metadata": {},
     "output_type": "execute_result"
    }
   ],
   "source": [
    "from imblearn.combine import SMOTETomek\n",
    "\n",
    "os_us = SMOTETomek(random_state = 0)\n",
    "train_X_com, train_y_com = os_us.fit_resample(train_X, train_y)\n",
    "\n",
    "## Aplicamos undersampling en conjunto de entrenamiento estandarizado\n",
    "train_X_com_st, train_y_com_st = os_us.fit_resample(train_X_st, train_y)\n",
    "\n",
    "print('Before SMOTE-TOMEK')\n",
    "train_y.value_counts()"
   ]
  },
  {
   "cell_type": "code",
   "execution_count": 20,
   "id": "16d523cd",
   "metadata": {},
   "outputs": [
    {
     "name": "stdout",
     "output_type": "stream",
     "text": [
      "After SMOTE-TOMEK\n"
     ]
    },
    {
     "data": {
      "text/plain": [
       "0    184\n",
       "1    184\n",
       "Name: Target, dtype: int64"
      ]
     },
     "execution_count": 20,
     "metadata": {},
     "output_type": "execute_result"
    }
   ],
   "source": [
    "print('After SMOTE-TOMEK')\n",
    "train_y_com.value_counts()"
   ]
  },
  {
   "attachments": {},
   "cell_type": "markdown",
   "id": "eba40f92",
   "metadata": {},
   "source": [
    "## 4. Selección y entrenamiento de los modelos"
   ]
  },
  {
   "attachments": {},
   "cell_type": "markdown",
   "id": "fa35f943",
   "metadata": {},
   "source": [
    "Seleccionamos los algoritmos KNN, AdaBoost, Multilayer Perceptron y SVM. \n",
    "\n",
    "Para cada unos de los algoritmos creamos tres modelos distintos diferenciandose por el tratamieno de los datos de entrada. \n",
    "\n",
    "Diferenciamos tres tipos de datos de entradas:datos originales, datos estandarizados y datos estandarizados con clases balanceadas. \n",
    "\n",
    "Una vez creados y entrenados los distintos modelos validaremos sus resultados con la técnica Cross-Validation teniendo como métrica de evaluación AUC y ACC. \n",
    "\n",
    "La elección de ACC y AUC tiene como fin el evitar obtener conclusiones que puedan ser sesgadas por la distribución de los datos. \n",
    "\n",
    "Obtener conclusiones de una única métrica puede llevar a falsas conclusiones sobre el modelo el cuestión. Concretamente en el caso de ACC sabemos que en datasets con desbalanceo de clases no es del todo fiable. AUC es una métrica usada en problemas de clasificación binaria. Evalúa la capacidad que tiene el modelo para distinguir entre clases positivas y negativas. "
   ]
  },
  {
   "attachments": {},
   "cell_type": "markdown",
   "id": "4bc05fb8",
   "metadata": {},
   "source": [
    "#### KNN"
   ]
  },
  {
   "cell_type": "code",
   "execution_count": 21,
   "id": "bfb5e66d",
   "metadata": {},
   "outputs": [
    {
     "name": "stdout",
     "output_type": "stream",
     "text": [
      "AUC KNN: 0.7450779727095518\n",
      "ACC KNN: 0.8941558441558441\n",
      "\n",
      "AUC KNN_std : 0.8406920077972708\n",
      "ACC KNN_std : 0.885064935064935\n",
      "\n",
      "AUC KNN_std_st: 0.956294244382887\n",
      "ACC KNN_std_st: 0.9153627311522049\n"
     ]
    }
   ],
   "source": [
    "## KNN con datos sin estandarizar\n",
    "knn = KNeighborsClassifier(n_neighbors=3)\n",
    "knn.fit(train_X, train_y)\n",
    "pred_y_knn = knn.predict(test_X)\n",
    "knn_auc = cross_val_score(knn,train_X, train_y, scoring='roc_auc', cv=10, n_jobs=-1)\n",
    "knn_acc = cross_val_score(knn,train_X, train_y, scoring='accuracy', cv=10, n_jobs=-1)\n",
    "print('AUC KNN:', mean(knn_auc))\n",
    "print('ACC KNN:', mean(knn_acc))\n",
    "print()\n",
    "## KNN con datos estandarizados\n",
    "knn_stn = KNeighborsClassifier(n_neighbors=3)\n",
    "knn_stn.fit(train_X_st, train_y)\n",
    "pred_y_knn_stn = knn_stn.predict(test_X_st)\n",
    "knn_stn_auc = cross_val_score(knn_stn,train_X_st, train_y, scoring='roc_auc', cv=10, n_jobs=-1)\n",
    "print('AUC KNN_std :',mean(knn_stn_auc))\n",
    "knn_stn_acc = cross_val_score(knn_stn,train_X_st, train_y, scoring='accuracy', cv=10, n_jobs=-1)\n",
    "print('ACC KNN_std :',mean(knn_stn_acc))\n",
    "print()\n",
    "## KNN con datos estandarizados y desbalanceo de clases tratado\n",
    "knn_stn_st = KNeighborsClassifier(n_neighbors=3)\n",
    "knn_stn_st.fit(train_X_com_st, train_y_com_st)\n",
    "pred_y_knn_stn_st = knn_stn_st.predict(train_X_com_st)\n",
    "knn_stn_st_auc = cross_val_score(knn_stn_st,train_X_com_st, train_y_com_st, scoring='roc_auc', cv=10, n_jobs=-1)\n",
    "print('AUC KNN_std_st:',mean(knn_stn_st_auc))\n",
    "knn_stn_st_acc = cross_val_score(knn_stn_st,train_X_com_st, train_y_com_st, scoring='accuracy', cv=10, n_jobs=-1)\n",
    "print('ACC KNN_std_st:',mean(knn_stn_st_acc))"
   ]
  },
  {
   "attachments": {},
   "cell_type": "markdown",
   "id": "92767693",
   "metadata": {},
   "source": [
    "### AdaBoost"
   ]
  },
  {
   "cell_type": "code",
   "execution_count": 22,
   "id": "3039647f",
   "metadata": {},
   "outputs": [
    {
     "name": "stdout",
     "output_type": "stream",
     "text": [
      "AUC AB: 0.8166666666666668\n",
      "ACC AB: 0.8805194805194805\n",
      "\n",
      "AUC AB_stn: 0.8166666666666668\n",
      "ACC AB_stn: 0.8805194805194805\n",
      "\n",
      "AUC AB_stn_st: 0.9770083102493075\n",
      "ACC AB_stn_st: 0.9235419630156473\n"
     ]
    }
   ],
   "source": [
    "## AdaBoost con datos sin estandarizar\n",
    "ms = AdaBoostClassifier(n_estimators=100)\n",
    "ms.fit(train_X, train_y)\n",
    "pred_y_ms = ms.predict(test_X)\n",
    "ms_auc = cross_val_score(ms,train_X, train_y, scoring='roc_auc', cv=10, n_jobs=-1)\n",
    "print('AUC AB:', mean(ms_auc))\n",
    "ms_acc = cross_val_score(ms,train_X, train_y, scoring='accuracy', cv=10, n_jobs=-1)\n",
    "print('ACC AB:', mean(ms_acc))\n",
    "print()\n",
    "## AdaBoost con datos estandarizados\n",
    "ms_stn = AdaBoostClassifier(n_estimators=100)\n",
    "ms_stn.fit(train_X_st, train_y)\n",
    "pred_y_ms_stn = ms_stn.predict(test_X_st)\n",
    "ms_stn_auc = cross_val_score(ms_stn,train_X_st, train_y, scoring='roc_auc', cv=10, n_jobs=-1)\n",
    "print('AUC AB_stn:', mean(ms_stn_auc))\n",
    "ms_stn_acc = cross_val_score(ms_stn,train_X_st, train_y, scoring='accuracy', cv=10, n_jobs=-1)\n",
    "print('ACC AB_stn:', mean(ms_stn_acc))\n",
    "print()\n",
    "## AdaBoost con datos estandarizados y desbalanceo de clases tratado\n",
    "ms_stn_st = AdaBoostClassifier(n_estimators=100)\n",
    "ms_stn_st.fit(train_X_com_st, train_y_com_st)\n",
    "pred_y_ms_stn_st = ms_stn_st.predict(train_X_com_st)\n",
    "ms_stn_st_auc = cross_val_score(ms_stn_st,train_X_com_st, train_y_com_st, scoring='roc_auc', cv=10, n_jobs=-1)\n",
    "print('AUC AB_stn_st:', mean(ms_stn_st_auc))\n",
    "ms_stn_st_acc = cross_val_score(ms_stn_st,train_X_com_st, train_y_com_st, scoring='accuracy', cv=10, n_jobs=-1)\n",
    "print('ACC AB_stn_st:', mean(ms_stn_st_acc))"
   ]
  },
  {
   "attachments": {},
   "cell_type": "markdown",
   "id": "70b184d3",
   "metadata": {},
   "source": [
    "### MultiLayer Perceptron"
   ]
  },
  {
   "cell_type": "code",
   "execution_count": 23,
   "id": "9ecf30c4",
   "metadata": {},
   "outputs": [
    {
     "name": "stderr",
     "output_type": "stream",
     "text": [
      "C:\\Users\\aleja\\anaconda3\\lib\\site-packages\\sklearn\\neural_network\\_multilayer_perceptron.py:692: ConvergenceWarning: Stochastic Optimizer: Maximum iterations (300) reached and the optimization hasn't converged yet.\n",
      "  warnings.warn(\n"
     ]
    },
    {
     "name": "stdout",
     "output_type": "stream",
     "text": [
      "AUC ML: 0.8920077972709551\n",
      "ACC ML: 0.8943722943722945\n",
      "\n"
     ]
    },
    {
     "name": "stderr",
     "output_type": "stream",
     "text": [
      "C:\\Users\\aleja\\anaconda3\\lib\\site-packages\\sklearn\\neural_network\\_multilayer_perceptron.py:692: ConvergenceWarning: Stochastic Optimizer: Maximum iterations (300) reached and the optimization hasn't converged yet.\n",
      "  warnings.warn(\n"
     ]
    },
    {
     "name": "stdout",
     "output_type": "stream",
     "text": [
      "AUC ML_stn: 0.8166666666666668\n",
      "ACC ML_stn: 0.8805194805194805\n",
      "\n"
     ]
    },
    {
     "name": "stderr",
     "output_type": "stream",
     "text": [
      "C:\\Users\\aleja\\anaconda3\\lib\\site-packages\\sklearn\\neural_network\\_multilayer_perceptron.py:692: ConvergenceWarning: Stochastic Optimizer: Maximum iterations (300) reached and the optimization hasn't converged yet.\n",
      "  warnings.warn(\n"
     ]
    },
    {
     "name": "stdout",
     "output_type": "stream",
     "text": [
      "AUC ML_stn_st: 0.9758848876577408\n",
      "ACC ML_stn_st: 0.9446657183499289\n"
     ]
    }
   ],
   "source": [
    "## MLP con datos sin estandarizar\n",
    "ml = MLPClassifier(random_state=1, max_iter=300)\n",
    "ml.fit(train_X, train_y)\n",
    "pred_y_ml = ml.predict(test_X)\n",
    "ml_auc = cross_val_score(ml,train_X, train_y, scoring='roc_auc', cv=10, n_jobs=-1)\n",
    "print('AUC ML:', mean(ml_auc))\n",
    "ml_acc = cross_val_score(ml,train_X, train_y, scoring='accuracy', cv=10, n_jobs=-1)\n",
    "print('ACC ML:', mean(ml_acc))\n",
    "print()\n",
    "## MLP con datos estandarizados\n",
    "ml_stn = MLPClassifier(random_state=1, max_iter=300)\n",
    "ml_stn.fit(train_X_st, train_y)\n",
    "pred_y_ml_stn = ml_stn.predict(test_X_st)\n",
    "ml_stn_auc = cross_val_score(ml_stn,train_X_st, train_y, scoring='roc_auc', cv=10, n_jobs=-1)\n",
    "print('AUC ML_stn:', mean(ms_stn_auc))\n",
    "ml_stn_acc = cross_val_score(ml_stn,train_X_st, train_y, scoring='accuracy', cv=10, n_jobs=-1)\n",
    "print('ACC ML_stn:', mean(ms_stn_acc))\n",
    "print()\n",
    "## MLP con datos estandarizados y desbalanceo de clases tratado\n",
    "ml_stn_st = MLPClassifier(random_state=1, max_iter=300)\n",
    "ml_stn_st.fit(train_X_com_st, train_y_com_st)\n",
    "pred_y_ml_stn_st = ml_stn_st.predict(train_X_com_st)\n",
    "ml_stn_st_auc = cross_val_score(ml_stn_st,train_X_com_st, train_y_com_st, scoring='roc_auc', cv=10, n_jobs=-1)\n",
    "print('AUC ML_stn_st:', mean(ml_stn_st_auc))\n",
    "ml_stn_st_acc = cross_val_score(ml_stn_st,train_X_com_st, train_y_com_st, scoring='accuracy', cv=10, n_jobs=-1)\n",
    "print('ACC ML_stn_st:', mean(ml_stn_st_acc))"
   ]
  },
  {
   "attachments": {},
   "cell_type": "markdown",
   "id": "0812c9d9",
   "metadata": {},
   "source": [
    "### SVM"
   ]
  },
  {
   "cell_type": "code",
   "execution_count": 24,
   "id": "a9fc70ab",
   "metadata": {},
   "outputs": [
    {
     "name": "stdout",
     "output_type": "stream",
     "text": [
      "AUC SVM: 0.8140350877192983\n",
      "ACC SVM: 0.8707792207792208\n",
      "\n",
      "AUC SVM_stn: 0.9166666666666666\n",
      "ACC SVM_stn: 0.88982683982684\n",
      "\n",
      "AUC SVM_stn_st: 0.9839335180055402\n",
      "ACC SVM_stn_st: 0.9525604551920341\n"
     ]
    }
   ],
   "source": [
    "## SVM con datos sin estandarizar\n",
    "svm = SVC(gamma='auto')\n",
    "svm.fit(train_X, train_y)\n",
    "pred_y_svm = svm.predict(test_X)\n",
    "svm_auc = cross_val_score(svm, train_X, train_y, scoring='roc_auc', cv=10, n_jobs=-1)\n",
    "print('AUC SVM:', mean(svm_auc))\n",
    "svm_acc = cross_val_score(svm, train_X, train_y, scoring='accuracy', cv=10, n_jobs=-1)\n",
    "print('ACC SVM:', mean(svm_acc))\n",
    "print()\n",
    "## SVM con datos estandarizados\n",
    "svm_stn = SVC(gamma='auto')\n",
    "svm_stn.fit(train_X_st, train_y)\n",
    "pred_y_svm = svm_stn.predict(test_X_st)\n",
    "svm_stn_auc = cross_val_score(svm_stn,train_X_st, train_y, scoring='roc_auc', cv=10, n_jobs=-1)\n",
    "print('AUC SVM_stn:', mean(svm_stn_auc))\n",
    "svm_stn_acc = cross_val_score(svm_stn,train_X_st, train_y, scoring='accuracy', cv=10, n_jobs=-1)\n",
    "print('ACC SVM_stn:', mean(svm_stn_acc))\n",
    "print()\n",
    "## SVM con datos estandarizados y desbalanceo de clases tratado\n",
    "svm_stn_st = SVC(gamma='auto')\n",
    "svm_stn_st.fit(train_X_com_st, train_y_com_st)\n",
    "pred_y_svm_stn_st = svm_stn_st.predict(train_X_com_st)\n",
    "pred_y_svm_stn_st_test = svm_stn_st.predict(test_X_st)\n",
    "svm_stn_st_auc = cross_val_score(svm_stn_st,train_X_com_st, train_y_com_st, scoring='roc_auc', cv=10, n_jobs=-1)\n",
    "print('AUC SVM_stn_st:', mean(svm_stn_st_auc))\n",
    "svm_stn_st_acc = cross_val_score(svm_stn_st,train_X_com_st, train_y_com_st, scoring='accuracy', cv=10, n_jobs=-1)\n",
    "print('ACC SVM_stn_st:', mean(svm_stn_st_acc))"
   ]
  },
  {
   "attachments": {},
   "cell_type": "markdown",
   "id": "33d14f25",
   "metadata": {},
   "source": [
    "De forma general podemos decir que los modelos entrenados con datos estandarizados proporcionan unos mejores resultados en ambas métricas. \n",
    "\n",
    "Mejores resultados en los modelos estandarizados muestran el efecto que tiene la homogeneidad en el rango de valores de las variables que componen el dataset. \n",
    "\n",
    "Aún siendo la diferencia mínima en las métricas de evaluación entre los  modelos entrenados con datos estandarizados y clases balanceados, SVM proporciona los mejores de ellos. También destacamos la difrencia entre los resultados ACC y AUC en los modelos entrenados con datos desbalanceados, corroborando el razonamiento inicial de la sección."
   ]
  },
  {
   "attachments": {},
   "cell_type": "markdown",
   "id": "4026bae4",
   "metadata": {},
   "source": [
    "## 5. Hiperparametrización "
   ]
  },
  {
   "attachments": {},
   "cell_type": "markdown",
   "id": "3ad37a6d",
   "metadata": {},
   "source": [
    "En primer lugar describimos los principales hiperparámetros de SVC:\n",
    "    \n",
    "- Kernel: Describe el tipo de hiperplano usado para separar los datos. Entre las distintas opciones tenemos lineales ('linear') y  no lineales ('rbf', 'poly', 'sigmoiode').\n",
    "- Gamma: Determina el grado de ajuste de la curva de decisión al conjunto de datos. El valor de gamma varía entre 0 y 1.\n",
    "- C: Grado de penalización atribuido a clases mal clasificadas. \n",
    "- Degree: Grado del kernel polinómico. \n",
    "    \n",
    "El incremento de gamma y c provoca una mayor varianza y disminución de bias. De forma inversa, la disminución de gamma y c provoca disminución de varianza y aumento de bias. Del equilibrio de estos dos parámetros dependerá el buen ajuste del modelo. \n",
    "\n",
    "La distribución de los datos en el espacio determinará el tipo de kernel necesario para su clasificación. \n",
    "\n",
    "*Parámetros por defecto de SVC: c:1.0, kernel:'rbf', gamma:'auto'\n",
    "\n",
    "#### Parametrización manual 1:\n",
    "\n",
    "    - Kernel: 'linear'\n",
    "    - C: 0.01\n",
    "\n",
    "Con esta configuración buscamos si es posible obtener separar los datos de forma lineal y con una penalización relativamente baja evitando así el sobreajuste a los datos(baja varianza).  \n",
    "\n",
    "*Tenemos en cuenta que para kernels lineales no existe el parámetro gamma. "
   ]
  },
  {
   "cell_type": "code",
   "execution_count": 25,
   "id": "409e0b6a",
   "metadata": {},
   "outputs": [
    {
     "name": "stdout",
     "output_type": "stream",
     "text": [
      "AUC SVM_stn_st: 0.9839335180055402\n",
      "AUC SVM_stn_st_1: 0.96425053862727\n",
      "\n",
      "ACC SVM_stn_st: 0.9525604551920341\n",
      "ACC SVM_stn_st_1: 0.9236130867709816\n",
      "\n",
      "AUC SVM_stn_st_1 test 0.9212962962962963\n",
      "ACC SVM_stn_st_1 test:  0.9247311827956989\n"
     ]
    }
   ],
   "source": [
    "svm_stn_st_1 = SVC( C=0.01, kernel='linear')\n",
    "svm_stn_st_1.fit(train_X_com_st, train_y_com_st)\n",
    "pred_y_svm_stn_st_1 = svm_stn_st_1.predict(train_X_com_st)\n",
    "svm_stn_st_auc_1 = cross_val_score(svm_stn_st_1,train_X_com_st, train_y_com_st, scoring='roc_auc', cv=10, n_jobs=-1)\n",
    "print('AUC SVM_stn_st:', mean(svm_stn_st_auc))\n",
    "print('AUC SVM_stn_st_1:', mean(svm_stn_st_auc_1))\n",
    "print()\n",
    "svm_stn_st_acc_1 = cross_val_score(svm_stn_st_1,train_X_com_st, train_y_com_st, scoring='accuracy', cv=10, n_jobs=-1)\n",
    "print('ACC SVM_stn_st:', mean(svm_stn_st_acc))\n",
    "print('ACC SVM_stn_st_1:', mean(svm_stn_st_acc_1))\n",
    "print()\n",
    "pred_y_svm_stn_st_1_test = svm_stn_st_1.predict(test_X_st)\n",
    "print(\"AUC SVM_stn_st_1 test\", roc_auc_score(test_y, pred_y_svm_stn_st_1_test))\n",
    "print(\"ACC SVM_stn_st_1 test: \", accuracy_score(test_y, pred_y_svm_stn_st_1_test))"
   ]
  },
  {
   "attachments": {},
   "cell_type": "markdown",
   "id": "f16516da",
   "metadata": {},
   "source": [
    "Se han empeorado ligeramente las métricas respecto del modelo SVC con parámetros por defecto."
   ]
  },
  {
   "attachments": {},
   "cell_type": "markdown",
   "id": "b9e97406",
   "metadata": {},
   "source": [
    "#### Parametrización manual 2:\n",
    "\n",
    "    - Kernel: 'poly'\n",
    "    - Gamma: 0.5\n",
    "    - C: 0.01\n",
    "    - Degree: 3\n",
    "    \n",
    "Con esta configuración se busca obtener el comportamiento del modelo con transformaciones del espacio de caracteristicas no lineales. \n",
    "\n",
    "El valor de gamma en 0.5 busca el equilibrio entre la varianza y bias. \n",
    "\n",
    "Con el fin de seguir en la misma linea de comportamiento que gamma se fija C en 0.01. \n",
    "\n",
    "Esta configuración debería de evitar el sobreajuste del modelo a los datos de entrenamiento. "
   ]
  },
  {
   "cell_type": "code",
   "execution_count": 26,
   "id": "775c6261",
   "metadata": {},
   "outputs": [
    {
     "name": "stdout",
     "output_type": "stream",
     "text": [
      "AUC SVM_stn_st: 0.9839335180055402\n",
      "AUC SVM_stn_st_2: 0.9666974453678054\n",
      "\n",
      "ACC SVM_stn_st: 0.9525604551920341\n",
      "ACC SVM_stn_st_2: 0.9340682788051211\n",
      "\n",
      "AUC SVM_stn_st_2 test 0.773148148148148\n",
      "ACC SVM_stn_st_2 test:  0.9139784946236559\n"
     ]
    }
   ],
   "source": [
    "svm_stn_st_2 = SVC( C=0.01, kernel='poly', degree=3, gamma = 0.5)\n",
    "svm_stn_st_2.fit(train_X_com_st, train_y_com_st)\n",
    "pred_y_svm_stn_st_2 = svm_stn_st_2.predict(train_X_com_st)\n",
    "svm_stn_st_auc_2 = cross_val_score(svm_stn_st_2,train_X_com_st, train_y_com_st, scoring='roc_auc', cv=10, n_jobs=-1)\n",
    "print('AUC SVM_stn_st:', mean(svm_stn_st_auc))\n",
    "print('AUC SVM_stn_st_2:', mean(svm_stn_st_auc_2))\n",
    "print()\n",
    "svm_stn_st_acc_2 = cross_val_score(svm_stn_st_2,train_X_com_st, train_y_com_st, scoring='accuracy', cv=10, n_jobs=-1)\n",
    "print('ACC SVM_stn_st:', mean(svm_stn_st_acc))\n",
    "print('ACC SVM_stn_st_2:', mean(svm_stn_st_acc_2))\n",
    "print()\n",
    "pred_y_svm_stn_st_2_test = svm_stn_st_2.predict(test_X_st)\n",
    "print(\"AUC SVM_stn_st_2 test\", roc_auc_score(test_y, pred_y_svm_stn_st_2_test))\n",
    "print(\"ACC SVM_stn_st_2 test: \", accuracy_score(test_y, pred_y_svm_stn_st_2_test))"
   ]
  },
  {
   "attachments": {},
   "cell_type": "markdown",
   "id": "0f648749",
   "metadata": {},
   "source": [
    "De igual forma que con la configuración anterior hay un ligero empeoramiento de las métricas respecto del modelo SVC con parámetros por defecto. \n",
    "\n",
    "Comparando los resultados obtenidos con la razón de elección de los parámetros podemos decir que los datos se ajustan mejor con un kernel polinomico respecto del lineal aunque no hay una diferencia notoria. \n",
    "\n",
    "En relación al efecto de gamma podemos decir que no ha creado overfiting apoyado esto por el buen resultado de AUC. El resultado inferior de ACC respecto de AUC puede verse debido al threshold con el que determina las predicciones AUC. No obstante el comportamiento del modelo es bueno."
   ]
  },
  {
   "attachments": {},
   "cell_type": "markdown",
   "id": "cf6e175b",
   "metadata": {},
   "source": [
    "#### Parametrización manual 3:\n",
    "\n",
    "    - Kernel: 'rbf'\n",
    "    - Gamma: 0.9\n",
    "    - C: 10\n",
    "    - Degree: 3\n",
    "    \n",
    "Con esta configuración buscamos mostrar el comportamiento del modelo con sobreajuste. \n",
    "\n",
    "Los parámetros de gamma 0.99 y c 10 deben de ajustar la superficie de decisión a los datos de entrenamiento de forma considerable respecto de los otros modelos. \n",
    "\n",
    "Se debería de obtener un resultados en las métricas peores que en las configuraciones anteriores. Concretamente ACC debería de mostrar de una forma mas acusada el efecto de esta configuración."
   ]
  },
  {
   "cell_type": "code",
   "execution_count": 27,
   "id": "be3f05d7",
   "metadata": {},
   "outputs": [
    {
     "name": "stdout",
     "output_type": "stream",
     "text": [
      "AUC SVM_stn_st: 0.9839335180055402\n",
      "AUC SVM_stn_st_3: 0.9854724530624808\n",
      "\n",
      "ACC SVM_stn_st: 0.9525604551920341\n",
      "ACC SVM_stn_st_3: 0.9470839260312947\n",
      "\n",
      "AUC SVM_stn_st_3 test 0.6666666666666667\n",
      "ACC SVM_stn_st_3 test:  0.9139784946236559\n"
     ]
    }
   ],
   "source": [
    "svm_stn_st_3 = SVC( C=1000, kernel='rbf', degree=5, gamma = 0.9)\n",
    "svm_stn_st_3.fit(train_X_com_st, train_y_com_st)\n",
    "pred_y_svm_stn_st_3 = svm_stn_st_3.predict(train_X_com_st)\n",
    "svm_stn_st_auc_3 = cross_val_score(svm_stn_st_3,train_X_com_st, train_y_com_st, scoring='roc_auc', cv=10, n_jobs=-1)\n",
    "print('AUC SVM_stn_st:', mean(svm_stn_st_auc))\n",
    "print('AUC SVM_stn_st_3:', mean(svm_stn_st_auc_3))\n",
    "print()\n",
    "svm_stn_st_acc_3 = cross_val_score(svm_stn_st_3,train_X_com_st, train_y_com_st, scoring='accuracy', cv=10, n_jobs=-1)\n",
    "print('ACC SVM_stn_st:', mean(svm_stn_st_acc))\n",
    "print('ACC SVM_stn_st_3:', mean(svm_stn_st_acc_3))\n",
    "print()\n",
    "pred_y_svm_stn_st_3_test = svm_stn_st_3.predict(test_X_st)\n",
    "print(\"AUC SVM_stn_st_3 test\", roc_auc_score(test_y, pred_y_svm_stn_st_3_test))\n",
    "print(\"ACC SVM_stn_st_3 test: \", accuracy_score(test_y, pred_y_svm_stn_st_3_test))"
   ]
  },
  {
   "attachments": {},
   "cell_type": "markdown",
   "id": "12565ea0",
   "metadata": {},
   "source": [
    "Como vemos los resultados apoyan el razonamiento inicial. Se provoca un sobreajuste del modelo al conjunto de entrenamiento (overfitting). Podemos apreciar overfitting fijándonos en la diferente de AUC en training y test. En el caso de ACC no muestra tanta diferencia, no obstante no es motivo para determinar la calidad de modelo por una única métrica y más aún teniendo conocimiento de resultado contradictorios en AUC."
   ]
  },
  {
   "cell_type": "code",
   "execution_count": 28,
   "id": "0f5fc734",
   "metadata": {},
   "outputs": [
    {
     "data": {
      "text/plain": [
       "1    81\n",
       "0    12\n",
       "Name: Target, dtype: int64"
      ]
     },
     "execution_count": 28,
     "metadata": {},
     "output_type": "execute_result"
    }
   ],
   "source": [
    "test_y.value_counts()"
   ]
  },
  {
   "attachments": {},
   "cell_type": "markdown",
   "id": "8af5516f",
   "metadata": {},
   "source": [
    "#### Hiperparametrización automática GridSearch:\n",
    "\n",
    "    - Kernel: ['linear','rbf', 'poly']\n",
    "    - Gamma: [1,0.1,0.001,0.0001]\n",
    "    - C: [1,10,100,1000]\n",
    "\n",
    "La técnica de hiperparametrización automática Grid Search crea y evalua modelos para cada combinación de hiperparámetros. El número de hiperparámetros que queremos optimizar es dado por parámetros.\n",
    "\n",
    "Evalua cada una de las combinaciones de hiperparámetros posibles, devolviendo la combinación con mejor resultado en la métrica especificada.  Utilizaremos AUC como métrica de evaluación en GridSearch por su robustez respecto de ACC.\n",
    "\n",
    "Aplicaremos GridSearch a SVC con datos estandarizados y clases balanceadas como en los pasos anteriores. "
   ]
  },
  {
   "cell_type": "code",
   "execution_count": 29,
   "id": "b71bca5d",
   "metadata": {},
   "outputs": [
    {
     "name": "stdout",
     "output_type": "stream",
     "text": [
      "AUC SVM_stn_st: 0.9839335180055402\n",
      "AUC SVM_stn_st_grid: 0.9950138504155124\n",
      "\n",
      "ACC SVM_stn_st: 0.9525604551920341\n",
      "ACC SVM_stn_st_grid: 0.9551920341394025\n",
      "\n",
      "AUC test 0.7854938271604937\n",
      "ACC test:  0.9354838709677419\n"
     ]
    }
   ],
   "source": [
    "grid_values = {'C':[1,10,100,1000],'gamma':[1,0.1,0.001,0.0001], 'kernel':['linear','rbf', 'linear']}\n",
    "grid_svm_stn_st = GridSearchCV(svm_stn_st, param_grid = grid_values, scoring = 'roc_auc' )\n",
    "grid_svm_stn_st.fit(train_X_com_st,train_y_com_st)\n",
    "y_pred_grid = grid_svm_stn_st.predict(test_X_st)\n",
    "svm_stn_st_auc_grid = cross_val_score(grid_svm_stn_st,train_X_com_st, train_y_com_st, scoring='roc_auc', cv=10, n_jobs=-1)\n",
    "svm_stn_st_acc_grid = cross_val_score(grid_svm_stn_st,train_X_com_st, train_y_com_st, scoring='accuracy', cv=10, n_jobs=-1)\n",
    "\n",
    "print('AUC SVM_stn_st:', mean(svm_stn_st_auc))\n",
    "print('AUC SVM_stn_st_grid:', mean(svm_stn_st_auc_grid))\n",
    "print()\n",
    "print('ACC SVM_stn_st:', mean(svm_stn_st_acc))\n",
    "print('ACC SVM_stn_st_grid:', mean(svm_stn_st_acc_grid))\n",
    "print()\n",
    "print(\"AUC test\", roc_auc_score(test_y, y_pred_grid))\n",
    "print(\"ACC test: \", accuracy_score(test_y, y_pred_grid))"
   ]
  },
  {
   "attachments": {},
   "cell_type": "markdown",
   "id": "4820e8c5",
   "metadata": {},
   "source": [
    "Obtenemos una mejoría en AUC y ACC respecto del modelo con parámetros por defecto. \n",
    "\n",
    "A su vez también mejora las dos configuraciones anteriores. Este resulta era el esperado por las características de GridSearch y su búsqueda exhaustiva de la mejor combinación de hiperparámetros."
   ]
  },
  {
   "attachments": {},
   "cell_type": "markdown",
   "id": "ce0ea3a4",
   "metadata": {},
   "source": [
    "## 6. Evaluación del modelo\n",
    "\n",
    "Procederemos aplicar un conjunto de métricas con el fin de obtener una visión global del comportamiento del modelo SVC con mejor rendimiento respecto del modelo original. \n",
    "\n",
    "En el *conjunto de entrenamiento* aplicaremos Cross Validation. \n",
    "\n",
    "Cross Validation permite evitar el riesgo de overfitting del modelo hacia el conjunto de test. Además nos asegura que el total de las muestras se ha utilizado como training y validación exactamente una vez. \n",
    "\n",
    "Las caraceterísticas de Cross Validation nos permiten reducir la varianza en la estimación del modelo. \n",
    "\n",
    "Tenemos en cuenta que la elección de k=10 nos proporciona un equilibrio en el número de muestras destinadas a training y validación. No aconsejan utilizar k demasiado grande o pequeño. \n",
    "\n",
    "Añadimos que en nuestro conjunto de datos existe una proporción adecuada de datos destinas a training y test. En los casos que el conjunto de entrenamiento es pequeño respecto de test no es aconsejable su uso. \n",
    "\n",
    "Utilizaremos AUC, ACC, f1 weighted, recall y precision como métricas en Cross Validation.\n",
    "\n",
    "En el *conjunto de test* utilizaremos como métricas AUC, ACC, f1 weighted, recall, precision y matrix de confusión. \n",
    "\n",
    "Descripción de las métricas utilizadas:\n",
    "\n",
    "- ACC: Ratio predicciones correctas sobre el total de muestras. \n",
    "- AUC: Determina la probabilidad del modelo en distinguir entre clases en todos los valores umbral de decisión.\n",
    "- Matriz de confusión: Describe el comportamiento del modelo a través de sus TP, TN, FP, FN.\n",
    "- F1 Score: Determina como de preciso (instancias clasificadas correctamente) y robusto es un clasificador(determina efectividad de clasificación en dataset diferentes al conjunto de training).\n",
    "- Precision: Correctos positivos/ Total positivos clasificados\n",
    "- Recall: Correctos positivos/ Total positivos muestra\n",
    "\n",
    "#### Métricas conjunto trainig determinadas por Cross Validation:"
   ]
  },
  {
   "cell_type": "code",
   "execution_count": 30,
   "id": "0fd43c50",
   "metadata": {},
   "outputs": [
    {
     "name": "stdout",
     "output_type": "stream",
     "text": [
      "AUC SVM_stn_st: 0.9839335180055402\n",
      "AUC SVM_stn_st_grid: 0.9950138504155124\n",
      "\n",
      "ACC SVM_stn_st: 0.9525604551920341\n",
      "ACC SVM_stn_st_grid: 0.9551920341394025\n",
      "\n",
      "F1 score SVM_stn_st: 0.8149270241953168\n",
      "F1 score SVM_stn_st_grid: 0.9550675051894564\n",
      "\n",
      "Precision SVM_stn_st: 0.8746753246753247\n",
      "Precision SVM_stn_st_grid: 0.98375\n",
      "\n",
      "Recall SVM_stn_st: 0.9947368421052631\n",
      "Recall SVM_stn_st_grid: 0.98375\n"
     ]
    }
   ],
   "source": [
    "svm_stn_st_f1 = cross_val_score(svm_stn_st, train_X, train_y, scoring='f1_weighted', cv=10, n_jobs=-1)\n",
    "svm_stn_st_precision = cross_val_score(svm_stn_st, train_X, train_y, scoring='precision', cv=10, n_jobs=-1)\n",
    "svm_stn_st_recall = cross_val_score(svm_stn_st, train_X, train_y, scoring='recall', cv=10, n_jobs=-1)\n",
    "svm_stn_st_f1_grid = cross_val_score(grid_svm_stn_st,train_X_com_st, train_y_com_st, scoring='f1_weighted', cv=10, n_jobs=-1)\n",
    "svm_stn_st_precision_grid = cross_val_score(grid_svm_stn_st,train_X_com_st, train_y_com_st, scoring='precision', cv=10, n_jobs=-1)\n",
    "svm_stn_st_recall_grid = cross_val_score(grid_svm_stn_st,train_X_com_st, train_y_com_st, scoring='recall', cv=10, n_jobs=-1)\n",
    "\n",
    "print('AUC SVM_stn_st:', mean(svm_stn_st_auc))\n",
    "print('AUC SVM_stn_st_grid:', mean(svm_stn_st_auc_grid))\n",
    "print()\n",
    "print('ACC SVM_stn_st:', mean(svm_stn_st_acc))\n",
    "print('ACC SVM_stn_st_grid:', mean(svm_stn_st_acc_grid))\n",
    "print()\n",
    "print('F1 score SVM_stn_st:', mean(svm_stn_st_f1))\n",
    "print('F1 score SVM_stn_st_grid:', mean(svm_stn_st_f1_grid))\n",
    "print()\n",
    "print('Precision SVM_stn_st:', mean(svm_stn_st_precision))\n",
    "print('Precision SVM_stn_st_grid:', mean(svm_stn_st_precision_grid))\n",
    "print()\n",
    "print('Recall SVM_stn_st:', mean(svm_stn_st_recall))\n",
    "print('Recall SVM_stn_st_grid:', mean(svm_stn_st_precision_grid))"
   ]
  },
  {
   "attachments": {},
   "cell_type": "markdown",
   "id": "b726eb08",
   "metadata": {},
   "source": [
    "#### Métricas conjunto test:"
   ]
  },
  {
   "cell_type": "code",
   "execution_count": 31,
   "id": "fdeec80a",
   "metadata": {},
   "outputs": [
    {
     "name": "stdout",
     "output_type": "stream",
     "text": [
      "Matriz confusión SVM_stn_st_test\n"
     ]
    },
    {
     "data": {
      "text/plain": [
       "<sklearn.metrics._plot.confusion_matrix.ConfusionMatrixDisplay at 0x24f56ccd130>"
      ]
     },
     "execution_count": 31,
     "metadata": {},
     "output_type": "execute_result"
    },
    {
     "data": {
      "image/png": "[encoded data removed]",
      "text/plain": [
       "<Figure size 432x288 with 2 Axes>"
      ]
     },
     "metadata": {},
     "output_type": "display_data"
    }
   ],
   "source": [
    "print(\"Matriz confusión SVM_stn_st_test\")\n",
    "ConfusionMatrixDisplay.from_predictions(test_y, pred_y_svm_stn_st_test) "
   ]
  },
  {
   "cell_type": "code",
   "execution_count": 32,
   "id": "b624a696",
   "metadata": {},
   "outputs": [
    {
     "name": "stdout",
     "output_type": "stream",
     "text": [
      "Matriz confusión SVM_stn_st_grid test\n"
     ]
    },
    {
     "data": {
      "text/plain": [
       "<sklearn.metrics._plot.confusion_matrix.ConfusionMatrixDisplay at 0x24f56cb9d90>"
      ]
     },
     "execution_count": 32,
     "metadata": {},
     "output_type": "execute_result"
    },
    {
     "data": {
      "image/png": "[encoded data removed]",
      "text/plain": [
       "<Figure size 432x288 with 2 Axes>"
      ]
     },
     "metadata": {},
     "output_type": "display_data"
    }
   ],
   "source": [
    "print(\"Matriz confusión SVM_stn_st_grid test\")\n",
    "ConfusionMatrixDisplay.from_predictions(test_y, y_pred_grid)"
   ]
  },
  {
   "cell_type": "code",
   "execution_count": 33,
   "id": "0ec9623f",
   "metadata": {},
   "outputs": [
    {
     "name": "stdout",
     "output_type": "stream",
     "text": [
      "AUC SVM_stn_st_test 0.8209876543209876\n",
      "AUC SVM_stn_st_grid test 0.7854938271604937\n",
      "\n",
      "ACC SVM_stn_st_test 0.9354838709677419\n",
      "ACC SVM_stn_st_grid test:  0.9354838709677419\n",
      "\n",
      "F1 score SVM_stn_st_test 0.9634146341463414\n",
      "F1 score SVM_stn_st_grid test:  0.963855421686747\n",
      "\n",
      "Precision SVM_stn_st_test 0.9518072289156626\n",
      "Precision score SVM_stn_st_grid test:  0.9411764705882353\n",
      "\n",
      "Recall SVM_stn_st_test 0.9753086419753086\n",
      "Recall SVM_stn_st_grid test:  0.9876543209876543\n"
     ]
    }
   ],
   "source": [
    "print(\"AUC SVM_stn_st_test\", roc_auc_score(test_y, pred_y_svm_stn_st_test))\n",
    "print(\"AUC SVM_stn_st_grid test\", roc_auc_score(test_y, y_pred_grid))\n",
    "print()\n",
    "print(\"ACC SVM_stn_st_test\", accuracy_score(test_y, pred_y_svm_stn_st_test))\n",
    "print(\"ACC SVM_stn_st_grid test: \", accuracy_score(test_y, y_pred_grid))\n",
    "print()\n",
    "print(\"F1 score SVM_stn_st_test\", f1_score(test_y, pred_y_svm_stn_st_test))\n",
    "print(\"F1 score SVM_stn_st_grid test: \", f1_score(test_y, y_pred_grid))\n",
    "print()\n",
    "print(\"Precision SVM_stn_st_test\", precision_score(test_y, pred_y_svm_stn_st_test))\n",
    "print(\"Precision score SVM_stn_st_grid test: \", precision_score(test_y, y_pred_grid))\n",
    "print()\n",
    "print(\"Recall SVM_stn_st_test\", recall_score(test_y, pred_y_svm_stn_st_test))\n",
    "print(\"Recall SVM_stn_st_grid test: \", recall_score(test_y, y_pred_grid))\n"
   ]
  },
  {
   "attachments": {},
   "cell_type": "markdown",
   "id": "f655bbea",
   "metadata": {},
   "source": [
    "##### Combinación GridSearch"
   ]
  },
  {
   "cell_type": "code",
   "execution_count": 40,
   "id": "395353e5",
   "metadata": {},
   "outputs": [
    {
     "data": {
      "text/plain": [
       "dict_items([('C', 1), ('gamma', 0.1), ('kernel', 'rbf')])"
      ]
     },
     "execution_count": 40,
     "metadata": {},
     "output_type": "execute_result"
    }
   ],
   "source": [
    "grid_svm_stn_st.best_params_.items()"
   ]
  },
  {
   "attachments": {},
   "cell_type": "markdown",
   "id": "4d4b9850",
   "metadata": {},
   "source": [
    "Podemos concluir que tras estandarizar, tratar el desbalance de clases, optimizar los parámetros y comparar distintas métricas de evaluación que los resultados del modelo varían mínimamente respecto del modelo inicial (gamma 'auto', kernel 'rbf'). Posiblemente la configuración por defecto aún siendo relativamente 'simple' mejora la mejor combinación posible con los parámetros dados. No obstante la diferencia es mínima y los resultados siguen siendo considerablemente buenos.\n",
    "\n"
   ]
  },
  {
   "attachments": {},
   "cell_type": "markdown",
   "id": "f12613aa",
   "metadata": {},
   "source": [
    "#### Conclusiones:\n",
    "\n",
    "- La inspección inicial de los datos nos permite identificar valores categóricos, nulos o fuera de rango que deben de ser tratados para la correcta aplicación de los modelos.\n",
    "- Técnicas de desbalanceo de clases marcan la diferencia entre obtener un modelo con sobreajuste hacia la clase mayoritaria o con una buena generalización hacia conjuntos de datos de test.\n",
    "- La normalización evita que variables con rangos distintos puedan provocar una influencia no deseada en la creación del modelo. Modelos de clasificación basados en distancias son especialmente sensibles a estas situaciones (KNN, SVM,..)\n",
    "- Las métricas obtenidas mediante CrossValidation nos dan más seguridad a la hora de sacar conclusiones sobre los resultados de predicción del conjunto de entrenamiento. Una única partición de los datos en trainig y test puede provocar que los resultados obtenidos provengan de un conjunto de datos no generalmente representativos. Mediante CrossValidation el total de instancias ha sido utiliza una vez para training y otra para validación. Existen multiples técnicas de validación dependiendo de la forma de partición de los datos GroupCrossValidation, Leave One Out, Shuffle Split,..\n",
    "- Facilitándonos la búsqueda de la combinación más óptima de hiperparámetros tenemos GridSearch o RandomSearch. Se ha demostrado que GridSearch obtiene la mejor combinación de hiperparámetros aunque con un coste computacional más alto. La combinación de RandomSearch y GridSearch soluciona en parte el problema computacional de GridSearch inicialmente opteniendo los parámetros más representativos de un conjunto con RandomSearch y posteriormente buscando la combinación mas óptima entre estos con GridSearch.\n",
    "- Las elección de la métrica debe de ser estudiada en base al conjunto de datos con el que se este evaluando el modelo. Vemo como ACC en dataset desbalanceados puede proporcionar buenos resultados de modelos poco generalistas. AUC es una métrica más robusta en situaciones de desbalanceo de clases realizando predicciones sobre todos los valores umbrales de probabilidad posibles."
   ]
  }
 ],
 "metadata": {
  "kernelspec": {
   "display_name": "Python 3 (ipykernel)",
   "language": "python",
   "name": "python3"
  },
  "language_info": {
   "codemirror_mode": {
    "name": "ipython",
    "version": 3
   },
   "file_extension": ".py",
   "mimetype": "text/x-python",
   "name": "python",
   "nbconvert_exporter": "python",
   "pygments_lexer": "ipython3",
   "version": "3.8.13"
  }
 },
 "nbformat": 4,
 "nbformat_minor": 5
}
