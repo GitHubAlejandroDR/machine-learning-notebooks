{
 "cells": [
  {
   "attachments": {},
   "cell_type": "markdown",
   "metadata": {},
   "source": [
    "# Description\n",
    "\n",
    "\n",
    "\n",
    "# Objetives\n",
    "\n"
   ]
  },
  {
   "attachments": {},
   "cell_type": "markdown",
   "metadata": {
    "id": "yVt-xNCxHnd5"
   },
   "source": [
    "## Tarea PCA\n",
    "\n",
    "Pasos a seguir en el ejercicio\n",
    "\n",
    "- Estandarizamos los datos de entrada\n",
    "  - ¿ Qué ocurriría si no estandarizamos los datos ?\n",
    "- Aplicamos PCA\n",
    "    - Visualizamos acumulado de variabilidad explicada\n",
    "- Aplicamos SMOTETomek\n",
    "- Gráfica 2D, en donde el eje X e Y serán los 2 primero componentes principales obtenidos por PCA.\n",
    "- Evaluamos el modelo\n",
    "\n",
    "- Conclusión\n",
    "\n",
    "\n",
    "\n",
    "\n"
   ]
  },
  {
   "cell_type": "code",
   "execution_count": 1,
   "metadata": {
    "id": "p5wZxXr4-bK3"
   },
   "outputs": [],
   "source": [
    "import numpy as np\n",
    "import pandas as pd\n",
    "import matplotlib.pyplot as plt\n",
    "import warnings\n",
    "from sklearn.metrics import *\n",
    "from numpy import mean\n",
    "from sklearn.datasets import load_breast_cancer\n",
    "from sklearn.preprocessing import StandardScaler\n",
    "import matplotlib.pyplot as plt\n",
    "import seaborn as sns\n",
    "from sklearn.decomposition import PCA\n",
    "from sklearn.model_selection import train_test_split, cross_val_score \n",
    "from imblearn.combine import SMOTETomek\n",
    "from sklearn.neighbors import KNeighborsClassifier\n",
    "warnings.simplefilter(action='ignore', category=FutureWarning)\n",
    "warnings.filterwarnings('ignore')"
   ]
  },
  {
   "attachments": {},
   "cell_type": "markdown",
   "metadata": {
    "id": "OJO_H5OW-GPJ"
   },
   "source": [
    "### Cargamos los datos"
   ]
  },
  {
   "cell_type": "code",
   "execution_count": 2,
   "metadata": {
    "id": "tW7WivQQ98t7"
   },
   "outputs": [],
   "source": [
    "breast_cancer = load_breast_cancer()"
   ]
  },
  {
   "attachments": {},
   "cell_type": "markdown",
   "metadata": {
    "id": "qs5I8BvurfDe"
   },
   "source": [
    "### Creamos un dataframe con los datos"
   ]
  },
  {
   "cell_type": "code",
   "execution_count": 3,
   "metadata": {
    "colab": {
     "base_uri": "https://localhost:8080/"
    },
    "id": "IL-mMWkg-qSj",
    "outputId": "bb913b2c-4d8f-49ed-e3a1-1de537660b62"
   },
   "outputs": [
    {
     "name": "stdout",
     "output_type": "stream",
     "text": [
      "<class 'pandas.core.frame.DataFrame'>\n",
      "RangeIndex: 569 entries, 0 to 568\n",
      "Data columns (total 30 columns):\n",
      " #   Column                   Non-Null Count  Dtype  \n",
      "---  ------                   --------------  -----  \n",
      " 0   mean radius              569 non-null    float64\n",
      " 1   mean texture             569 non-null    float64\n",
      " 2   mean perimeter           569 non-null    float64\n",
      " 3   mean area                569 non-null    float64\n",
      " 4   mean smoothness          569 non-null    float64\n",
      " 5   mean compactness         569 non-null    float64\n",
      " 6   mean concavity           569 non-null    float64\n",
      " 7   mean concave points      569 non-null    float64\n",
      " 8   mean symmetry            569 non-null    float64\n",
      " 9   mean fractal dimension   569 non-null    float64\n",
      " 10  radius error             569 non-null    float64\n",
      " 11  texture error            569 non-null    float64\n",
      " 12  perimeter error          569 non-null    float64\n",
      " 13  area error               569 non-null    float64\n",
      " 14  smoothness error         569 non-null    float64\n",
      " 15  compactness error        569 non-null    float64\n",
      " 16  concavity error          569 non-null    float64\n",
      " 17  concave points error     569 non-null    float64\n",
      " 18  symmetry error           569 non-null    float64\n",
      " 19  fractal dimension error  569 non-null    float64\n",
      " 20  worst radius             569 non-null    float64\n",
      " 21  worst texture            569 non-null    float64\n",
      " 22  worst perimeter          569 non-null    float64\n",
      " 23  worst area               569 non-null    float64\n",
      " 24  worst smoothness         569 non-null    float64\n",
      " 25  worst compactness        569 non-null    float64\n",
      " 26  worst concavity          569 non-null    float64\n",
      " 27  worst concave points     569 non-null    float64\n",
      " 28  worst symmetry           569 non-null    float64\n",
      " 29  worst fractal dimension  569 non-null    float64\n",
      "dtypes: float64(30)\n",
      "memory usage: 133.5 KB\n"
     ]
    }
   ],
   "source": [
    "df_features = pd.DataFrame(breast_cancer.data, columns= breast_cancer.feature_names)\n",
    "df_features.info()"
   ]
  },
  {
   "attachments": {},
   "cell_type": "markdown",
   "metadata": {
    "id": "UsuC2a1Ltbx9"
   },
   "source": [
    "### Estandarizamos los datos"
   ]
  },
  {
   "cell_type": "code",
   "execution_count": 5,
   "metadata": {
    "id": "W0kza3VX_VeK"
   },
   "outputs": [],
   "source": [
    "## Realizamos una partición con datos estandarizados\n",
    "ss = StandardScaler()\n",
    "df_features = ss.fit_transform(df_features)"
   ]
  },
  {
   "attachments": {},
   "cell_type": "markdown",
   "metadata": {
    "id": "KVjCoIm-Zck_"
   },
   "source": [
    "### ¿Qué ocurriría si no estandarizamos los datos?\n",
    "\n",
    "Ocurriría que PCA estaría sesgado hacia las variables con rangos mayores. Tenemos en cuenta que PCA se basa en la varianza de las variables por lo que una variable que se salga del rango será definida con una varianza mayor y por lo tanto con mayor influencia en el componente. "
   ]
  },
  {
   "attachments": {},
   "cell_type": "markdown",
   "metadata": {
    "id": "sIyBA1jRrl6f"
   },
   "source": [
    "### Añadimos variable target al dataframe"
   ]
  },
  {
   "cell_type": "code",
   "execution_count": 6,
   "metadata": {
    "id": "2AcK8pe1-vxG"
   },
   "outputs": [],
   "source": [
    "df = pd.DataFrame(breast_cancer.target)"
   ]
  },
  {
   "attachments": {},
   "cell_type": "markdown",
   "metadata": {
    "id": "pJncmQe3KMBP"
   },
   "source": [
    "### Aplicamos PCA \n",
    "\n",
    "En la configuración de PCA debemos de tener en cuenta el número de variables del conjunto de datos original, el número de instancias y la cantidad de varianza explicada. \n",
    "\n",
    "Se debe de elegir un número de componentes que sea menor al valor mínimo de instancias y variables (components==min(n_samples, n_features). \n",
    "\n",
    "Una de la opciones es elegir como número de componentes el total de variables del conjunto de datos y posteriormente se selecciona el conjunto de estos que proporcione la cantidad de varianza explicada necesaria. Esta ultima estretegia es aconsejable cuando el conjunto de variables del conjunto de datos no es excesivamente grande. \n",
    "\n",
    "Otro método es visualizar la varianza explicada del total de componentes y identificar donde se produce una caída significativa en la varianza explicada, relativa a la componente anterior. Esto muestra el punto aconsejable a partir del cual elegir las componentes en función de su aportación.\n",
    "\n",
    "\n",
    "En nuestro caso como el conjunto de datos tiene 30 variables configuramos PCA con 15 componentes inicialmente. A partir de estos 15 componentes visualizaremos el ratio de varianza explicada e elegiremos el número de estos que acumulen el 85% de la información."
   ]
  },
  {
   "cell_type": "code",
   "execution_count": 7,
   "metadata": {
    "colab": {
     "base_uri": "https://localhost:8080/",
     "height": 805
    },
    "id": "Sjm6puoePypK",
    "outputId": "99dafcd5-5cc7-42a2-de16-314f25e80b4f"
   },
   "outputs": [
    {
     "data": {
      "image/png": "[encoded data removed]",
      "text/plain": [
       "<Figure size 432x288 with 1 Axes>"
      ]
     },
     "metadata": {},
     "output_type": "display_data"
    },
    {
     "data": {
      "text/plain": [
       "None"
      ]
     },
     "metadata": {},
     "output_type": "display_data"
    },
    {
     "data": {
      "text/html": [
       "\n",
       "  <div id=\"df-1c2bdd45-aed1-457b-80fc-3875c3ec388f\">\n",
       "    <div class=\"colab-df-container\">\n",
       "      <div>\n",
       "<style scoped>\n",
       "    .dataframe tbody tr th:only-of-type {\n",
       "        vertical-align: middle;\n",
       "    }\n",
       "\n",
       "    .dataframe tbody tr th {\n",
       "        vertical-align: top;\n",
       "    }\n",
       "\n",
       "    .dataframe thead th {\n",
       "        text-align: right;\n",
       "    }\n",
       "</style>\n",
       "<table border=\"1\" class=\"dataframe\">\n",
       "  <thead>\n",
       "    <tr style=\"text-align: right;\">\n",
       "      <th></th>\n",
       "      <th>Cumulative Variance Ratio</th>\n",
       "      <th>Explained Variance Ratio</th>\n",
       "    </tr>\n",
       "  </thead>\n",
       "  <tbody>\n",
       "    <tr>\n",
       "      <th>0</th>\n",
       "      <td>0.442720</td>\n",
       "      <td>0.442720</td>\n",
       "    </tr>\n",
       "    <tr>\n",
       "      <th>1</th>\n",
       "      <td>0.632432</td>\n",
       "      <td>0.189712</td>\n",
       "    </tr>\n",
       "    <tr>\n",
       "      <th>2</th>\n",
       "      <td>0.726364</td>\n",
       "      <td>0.093932</td>\n",
       "    </tr>\n",
       "    <tr>\n",
       "      <th>3</th>\n",
       "      <td>0.792385</td>\n",
       "      <td>0.066021</td>\n",
       "    </tr>\n",
       "    <tr>\n",
       "      <th>4</th>\n",
       "      <td>0.847343</td>\n",
       "      <td>0.054958</td>\n",
       "    </tr>\n",
       "    <tr>\n",
       "      <th>5</th>\n",
       "      <td>0.887588</td>\n",
       "      <td>0.040245</td>\n",
       "    </tr>\n",
       "    <tr>\n",
       "      <th>6</th>\n",
       "      <td>0.910095</td>\n",
       "      <td>0.022507</td>\n",
       "    </tr>\n",
       "    <tr>\n",
       "      <th>7</th>\n",
       "      <td>0.925983</td>\n",
       "      <td>0.015887</td>\n",
       "    </tr>\n",
       "    <tr>\n",
       "      <th>8</th>\n",
       "      <td>0.939879</td>\n",
       "      <td>0.013896</td>\n",
       "    </tr>\n",
       "    <tr>\n",
       "      <th>9</th>\n",
       "      <td>0.951569</td>\n",
       "      <td>0.011690</td>\n",
       "    </tr>\n",
       "    <tr>\n",
       "      <th>10</th>\n",
       "      <td>0.961366</td>\n",
       "      <td>0.009797</td>\n",
       "    </tr>\n",
       "    <tr>\n",
       "      <th>11</th>\n",
       "      <td>0.970071</td>\n",
       "      <td>0.008705</td>\n",
       "    </tr>\n",
       "    <tr>\n",
       "      <th>12</th>\n",
       "      <td>0.978117</td>\n",
       "      <td>0.008045</td>\n",
       "    </tr>\n",
       "    <tr>\n",
       "      <th>13</th>\n",
       "      <td>0.983350</td>\n",
       "      <td>0.005234</td>\n",
       "    </tr>\n",
       "    <tr>\n",
       "      <th>14</th>\n",
       "      <td>0.986488</td>\n",
       "      <td>0.003138</td>\n",
       "    </tr>\n",
       "  </tbody>\n",
       "</table>\n",
       "</div>\n",
       "      <button class=\"colab-df-convert\" onclick=\"convertToInteractive('df-1c2bdd45-aed1-457b-80fc-3875c3ec388f')\"\n",
       "              title=\"Convert this dataframe to an interactive table.\"\n",
       "              style=\"display:none;\">\n",
       "        \n",
       "  <svg xmlns=\"http://www.w3.org/2000/svg\" height=\"24px\"viewBox=\"0 0 24 24\"\n",
       "       width=\"24px\">\n",
       "    <path d=\"M0 0h24v24H0V0z\" fill=\"none\"/>\n",
       "    <path d=\"M18.56 5.44l.94 2.06.94-2.06 2.06-.94-2.06-.94-.94-2.06-.94 2.06-2.06.94zm-11 1L8.5 8.5l.94-2.06 2.06-.94-2.06-.94L8.5 2.5l-.94 2.06-2.06.94zm10 10l.94 2.06.94-2.06 2.06-.94-2.06-.94-.94-2.06-.94 2.06-2.06.94z\"/><path d=\"M17.41 7.96l-1.37-1.37c-.4-.4-.92-.59-1.43-.59-.52 0-1.04.2-1.43.59L10.3 9.45l-7.72 7.72c-.78.78-.78 2.05 0 2.83L4 21.41c.39.39.9.59 1.41.59.51 0 1.02-.2 1.41-.59l7.78-7.78 2.81-2.81c.8-.78.8-2.07 0-2.86zM5.41 20L4 18.59l7.72-7.72 1.47 1.35L5.41 20z\"/>\n",
       "  </svg>\n",
       "      </button>\n",
       "      \n",
       "  <style>\n",
       "    .colab-df-container {\n",
       "      display:flex;\n",
       "      flex-wrap:wrap;\n",
       "      gap: 12px;\n",
       "    }\n",
       "\n",
       "    .colab-df-convert {\n",
       "      background-color: #E8F0FE;\n",
       "      border: none;\n",
       "      border-radius: 50%;\n",
       "      cursor: pointer;\n",
       "      display: none;\n",
       "      fill: #1967D2;\n",
       "      height: 32px;\n",
       "      padding: 0 0 0 0;\n",
       "      width: 32px;\n",
       "    }\n",
       "\n",
       "    .colab-df-convert:hover {\n",
       "      background-color: #E2EBFA;\n",
       "      box-shadow: 0px 1px 2px rgba(60, 64, 67, 0.3), 0px 1px 3px 1px rgba(60, 64, 67, 0.15);\n",
       "      fill: #174EA6;\n",
       "    }\n",
       "\n",
       "    [theme=dark] .colab-df-convert {\n",
       "      background-color: #3B4455;\n",
       "      fill: #D2E3FC;\n",
       "    }\n",
       "\n",
       "    [theme=dark] .colab-df-convert:hover {\n",
       "      background-color: #434B5C;\n",
       "      box-shadow: 0px 1px 3px 1px rgba(0, 0, 0, 0.15);\n",
       "      filter: drop-shadow(0px 1px 2px rgba(0, 0, 0, 0.3));\n",
       "      fill: #FFFFFF;\n",
       "    }\n",
       "  </style>\n",
       "\n",
       "      <script>\n",
       "        const buttonEl =\n",
       "          document.querySelector('#df-1c2bdd45-aed1-457b-80fc-3875c3ec388f button.colab-df-convert');\n",
       "        buttonEl.style.display =\n",
       "          google.colab.kernel.accessAllowed ? 'block' : 'none';\n",
       "\n",
       "        async function convertToInteractive(key) {\n",
       "          const element = document.querySelector('#df-1c2bdd45-aed1-457b-80fc-3875c3ec388f');\n",
       "          const dataTable =\n",
       "            await google.colab.kernel.invokeFunction('convertToInteractive',\n",
       "                                                     [key], {});\n",
       "          if (!dataTable) return;\n",
       "\n",
       "          const docLinkHtml = 'Like what you see? Visit the ' +\n",
       "            '<a target=\"_blank\" href=https://colab.research.google.com/notebooks/data_table.ipynb>data table notebook</a>'\n",
       "            + ' to learn more about interactive tables.';\n",
       "          element.innerHTML = '';\n",
       "          dataTable['output_type'] = 'display_data';\n",
       "          await google.colab.output.renderOutput(dataTable, element);\n",
       "          const docLink = document.createElement('div');\n",
       "          docLink.innerHTML = docLinkHtml;\n",
       "          element.appendChild(docLink);\n",
       "        }\n",
       "      </script>\n",
       "    </div>\n",
       "  </div>\n",
       "  "
      ],
      "text/plain": [
       "    Cumulative Variance Ratio  Explained Variance Ratio\n",
       "0                    0.442720                  0.442720\n",
       "1                    0.632432                  0.189712\n",
       "2                    0.726364                  0.093932\n",
       "3                    0.792385                  0.066021\n",
       "4                    0.847343                  0.054958\n",
       "5                    0.887588                  0.040245\n",
       "6                    0.910095                  0.022507\n",
       "7                    0.925983                  0.015887\n",
       "8                    0.939879                  0.013896\n",
       "9                    0.951569                  0.011690\n",
       "10                   0.961366                  0.009797\n",
       "11                   0.970071                  0.008705\n",
       "12                   0.978117                  0.008045\n",
       "13                   0.983350                  0.005234\n",
       "14                   0.986488                  0.003138"
      ]
     },
     "metadata": {},
     "output_type": "display_data"
    }
   ],
   "source": [
    "pca_all = PCA(n_components=15)\n",
    "pca_transform = pca_all.fit_transform(df_features)\n",
    "\n",
    "sns.set(style='whitegrid')\n",
    "plt.plot(np.cumsum(pca_all.explained_variance_ratio_))\n",
    "plt.xlabel('number of components')\n",
    "plt.ylabel('cumulative explained variance')\n",
    "plt.axvline(linewidth=4, color='r', linestyle = '--', x=6, ymin=0, ymax=1)\n",
    "display(plt.show())\n",
    "\n",
    "evr = pca_all.explained_variance_ratio_\n",
    "cvr = np.cumsum(pca_all.explained_variance_ratio_)\n",
    "pca_df = pd.DataFrame()\n",
    "pca_df['Cumulative Variance Ratio'] = cvr\n",
    "pca_df['Explained Variance Ratio'] = evr\n",
    "display(pca_df.head(15))"
   ]
  },
  {
   "cell_type": "code",
   "execution_count": 8,
   "metadata": {
    "colab": {
     "base_uri": "https://localhost:8080/"
    },
    "id": "hHUOrkahVVpt",
    "outputId": "77631ca0-67b9-46c9-e498-5e583a675369"
   },
   "outputs": [
    {
     "name": "stdout",
     "output_type": "stream",
     "text": [
      "shape of X_pca (569, 15)\n",
      "[0.44272026 0.18971182 0.09393163 0.06602135 0.05495768 0.04024522\n",
      " 0.02250734 0.01588724 0.01389649 0.01168978 0.00979719 0.00870538\n",
      " 0.00804525 0.00523366 0.00313783]\n",
      "suma: 0.9864881227121612\n",
      "[0.44272026 0.18971182 0.09393163 0.06602135 0.05495768]\n",
      "suma: 0.7923850582446098\n"
     ]
    }
   ],
   "source": [
    "print(\"shape of X_pca\", pca_transform.shape)\n",
    "expl = pca_all.explained_variance_ratio_\n",
    "print(expl)\n",
    "print('suma:',sum(expl))\n",
    "print(expl[0:5])\n",
    "print('suma:',sum(expl[0:4]))"
   ]
  },
  {
   "attachments": {},
   "cell_type": "markdown",
   "metadata": {
    "id": "CiypmkKsXp6V"
   },
   "source": [
    "Como vemos con tan solo 5 componentes consiguen representar el 85% del total de la varianza explicada. A su vez también denotamos como la pendiente de la curva a partir de ese mismo componente empieza a decrecer mostrando esto que el resto de componentes cada vez tienen menos varianza que ofrecer al conjunto. Denotamos que nos quedamos con 5 de los 15 componentes elegidos inicialmente de un total de 30 variables que formaban al conjunto de datos original. "
   ]
  },
  {
   "attachments": {},
   "cell_type": "markdown",
   "metadata": {
    "id": "IIds01NzViVF"
   },
   "source": [
    "### Aplicamos PCA con 5 componentes"
   ]
  },
  {
   "cell_type": "code",
   "execution_count": 9,
   "metadata": {
    "colab": {
     "base_uri": "https://localhost:8080/"
    },
    "id": "7NjIMCRmZLTx",
    "outputId": "0f2a2bf7-1795-446c-e592-866cb9051c14"
   },
   "outputs": [
    {
     "data": {
      "text/plain": [
       "(569, 5)"
      ]
     },
     "execution_count": 9,
     "metadata": {},
     "output_type": "execute_result"
    }
   ],
   "source": [
    "pca = PCA(n_components=5)\n",
    "X_pca = pca.fit_transform(df_features)\n",
    "X_pca.shape"
   ]
  },
  {
   "attachments": {},
   "cell_type": "markdown",
   "metadata": {
    "id": "xp1Vqv60rvNG"
   },
   "source": [
    "### Dividimos el conjunto de datos en train y test"
   ]
  },
  {
   "cell_type": "code",
   "execution_count": 12,
   "metadata": {
    "id": "hkrnCHjJ_IaQ"
   },
   "outputs": [],
   "source": [
    "train_X, test_X, train_y, test_y = train_test_split(X_pca, df, test_size = 0.3, stratify=df)"
   ]
  },
  {
   "attachments": {},
   "cell_type": "markdown",
   "metadata": {
    "id": "BiF2T3-EvjMp"
   },
   "source": [
    "### Combinación Smote-Tomek\n",
    "\n",
    "Consiste en aplicar simultáneamente los algoritmos de oversampling Smote y undersampling Tomek."
   ]
  },
  {
   "cell_type": "code",
   "execution_count": 13,
   "metadata": {
    "colab": {
     "base_uri": "https://localhost:8080/"
    },
    "id": "B07jJk_kvqaP",
    "outputId": "4e17ff07-72c2-4e45-8202-a9ee001205b9"
   },
   "outputs": [
    {
     "name": "stdout",
     "output_type": "stream",
     "text": [
      "Before 1    250\n",
      "0    148\n",
      "dtype: int64\n",
      "After 0    249\n",
      "1    249\n",
      "dtype: int64\n"
     ]
    }
   ],
   "source": [
    "## SMOTETomek sobre datos estandarizados\n",
    "os_us = SMOTETomek(random_state = 0)\n",
    "train_X_com, train_y_com = os_us.fit_resample(train_X, train_y)\n",
    "\n",
    "## Aplicamos SMOTETomek en conjunto de entrenamiento estandarizado\n",
    "train_X_com_st, train_y_com_st = os_us.fit_resample(train_X, train_y)\n",
    "\n",
    "\n",
    "print('Before', train_y.value_counts())\n",
    "print('After', train_y_com.value_counts())"
   ]
  },
  {
   "attachments": {},
   "cell_type": "markdown",
   "metadata": {
    "id": "Khw9KKMGdg_B"
   },
   "source": [
    "### Gráfica 2D, en donde el eje X e Y serán los 2 primero componentes principales obtenidos por PCA."
   ]
  },
  {
   "cell_type": "code",
   "execution_count": 24,
   "metadata": {
    "colab": {
     "base_uri": "https://localhost:8080/",
     "height": 340
    },
    "id": "dLCBQT-GdqvW",
    "outputId": "ffa6d89b-820f-49f6-f3f0-8a867d42e047"
   },
   "outputs": [
    {
     "data": {
      "image/png": "[encoded data removed]",
      "text/plain": [
       "<Figure size 504x360 with 1 Axes>"
      ]
     },
     "metadata": {},
     "output_type": "display_data"
    }
   ],
   "source": [
    "#graficamos en 2 Dimensiones, tomando los 2 primeros componentes principales\n",
    "Xax=X_pca[:,0]\n",
    "Yax=X_pca[:,1]\n",
    "df['target'] = df\n",
    "labels=df['target'].values\n",
    "cdict={0:'red',1:'green'}\n",
    "labl={0:'No Cancer',1:'Cancer'}\n",
    "marker={0:'*',1:'o'}\n",
    "alpha={0:.3, 1:.5}\n",
    "fig,ax=plt.subplots(figsize=(7,5))\n",
    "fig.patch.set_facecolor('white')\n",
    "for l in np.unique(labels):\n",
    "    ix=np.where(labels==l)\n",
    "    ax.scatter(Xax[ix],Yax[ix],c=cdict[l],label=labl[l],s=40,marker=marker[l],alpha=alpha[l])\n",
    "\n",
    "plt.xlabel(\"First Principal Component\",fontsize=14)\n",
    "plt.ylabel(\"Second Principal Component\",fontsize=14)\n",
    "plt.legend()\n",
    "plt.show()"
   ]
  },
  {
   "attachments": {},
   "cell_type": "markdown",
   "metadata": {
    "id": "0jaiiLwOe_-i"
   },
   "source": [
    "Vemos como las dos primeras componentes (lás más significativas, alcanzan el 72% de la varianza explicada) consiguen clasificar las distintas instancias de una forma bastante precisa."
   ]
  },
  {
   "attachments": {},
   "cell_type": "markdown",
   "metadata": {
    "id": "PQWpNsj1v51y"
   },
   "source": [
    "### Selección del modelo\n",
    "\n",
    "Nuestro modelo sera KNN. KNN es un algoritmo supervisado de clasificación.\n",
    "\n",
    "Podemos configurar hiperparámetros modificacando características tales como el número de vecinos, la forma de dar peso a las distancias o la métrica de distancias utilizada entre otros.\n",
    "\n",
    "En nuestro caso crearemos un modelo con número de vecinos = 3 y distancia manhattan. La función de pesos la mantenemos como uniforme."
   ]
  },
  {
   "cell_type": "code",
   "execution_count": 14,
   "metadata": {
    "id": "S1m8YSlJwIUQ"
   },
   "outputs": [],
   "source": [
    "knn_com_st = KNeighborsClassifier(n_neighbors=3,  metric='manhattan')"
   ]
  },
  {
   "attachments": {},
   "cell_type": "markdown",
   "metadata": {
    "id": "7luANGakwUOU"
   },
   "source": [
    "### Entrenemos al modelo con los conjuntos de datos creados"
   ]
  },
  {
   "cell_type": "code",
   "execution_count": 15,
   "metadata": {
    "colab": {
     "base_uri": "https://localhost:8080/"
    },
    "id": "6zBq2NRcwb1k",
    "outputId": "f5cb6a48-3533-4aeb-8a94-de1b8fa302d0"
   },
   "outputs": [
    {
     "data": {
      "text/plain": [
       "KNeighborsClassifier(metric='manhattan', n_neighbors=3)"
      ]
     },
     "execution_count": 15,
     "metadata": {},
     "output_type": "execute_result"
    }
   ],
   "source": [
    "## Conjunto de datos con SMOTETomek y estandarización\n",
    "knn_com_st.fit(train_X_com_st,train_y_com_st)"
   ]
  },
  {
   "attachments": {},
   "cell_type": "markdown",
   "metadata": {
    "id": "SZ1hvqWi8gjb"
   },
   "source": [
    "### Evaluación del modelo"
   ]
  },
  {
   "cell_type": "code",
   "execution_count": 17,
   "metadata": {
    "colab": {
     "base_uri": "https://localhost:8080/"
    },
    "id": "XZH_hXO2_iUx",
    "outputId": "a48f1f64-b1e9-48fd-f6f7-6a8930632cf4"
   },
   "outputs": [
    {
     "name": "stdout",
     "output_type": "stream",
     "text": [
      "KNN Com Std Model Accuracy : 0.9707602339181286\n",
      "\n",
      "KNN Com Std Model F Scores Micro: 0.9707602339181286\n",
      "KNN Com Std Model F Scores Macro: 0.9688830658368817\n",
      "KNN Com Std Model F Scores Weighted: 0.9707155394400037\n",
      "\n",
      "KNN Com Std Model Precision Score Micro: 0.9707602339181286\n",
      "KNN Com Std Model Precision Score Macro: 0.970356308411215\n",
      "KNN Com Std Model Precision Score Weighted: 0.970741446685249\n",
      "\n",
      "KNN Com Std Model ROC AUC Score : 0.9965683411214954\n",
      "\n",
      "KNN Over Std Model Confusion Matrix: \n",
      " [[ 62   2]\n",
      " [  3 104]]\n",
      "\n",
      "KNN Over Std Model Classification Report: \n",
      "               precision    recall  f1-score   support\n",
      "\n",
      "           0       0.95      0.97      0.96        64\n",
      "           1       0.98      0.97      0.98       107\n",
      "\n",
      "    accuracy                           0.97       171\n",
      "   macro avg       0.97      0.97      0.97       171\n",
      "weighted avg       0.97      0.97      0.97       171\n",
      "\n"
     ]
    }
   ],
   "source": [
    "## Acurracy, F Score, Precision y ROC score de KNN Combi-sampling Standarized\n",
    "prediction=knn_com_st.predict(test_X)\n",
    "print('KNN Com Std Model Accuracy :',accuracy_score(prediction,test_y))\n",
    "print()\n",
    "print('KNN Com Std Model F Scores Micro:',f1_score(prediction,test_y, average='micro'))\n",
    "print('KNN Com Std Model F Scores Macro:',f1_score(prediction,test_y, average='macro'))\n",
    "print('KNN Com Std Model F Scores Weighted:',f1_score(prediction,test_y, average='weighted'))\n",
    "print()\n",
    "print('KNN Com Std Model Precision Score Micro:',precision_score(prediction,test_y, average='micro'))\n",
    "print('KNN Com Std Model Precision Score Macro:',precision_score(prediction,test_y, average='macro'))\n",
    "print('KNN Com Std Model Precision Score Weighted:',precision_score(prediction,test_y, average='weighted'))\n",
    "print()\n",
    "print('KNN Com Std Model ROC AUC Score :', roc_auc_score(test_y, knn_com_st.predict_proba(test_X)[:, 1]))\n",
    "print()\n",
    "print('KNN Over Std Model Confusion Matrix: \\n', confusion_matrix(test_y, prediction))\n",
    "print()\n",
    "print('KNN Over Std Model Classification Report: \\n', classification_report(test_y, prediction))"
   ]
  },
  {
   "cell_type": "code",
   "execution_count": 20,
   "metadata": {
    "colab": {
     "base_uri": "https://localhost:8080/"
    },
    "id": "WBd4MR_qbanW",
    "outputId": "0ef877bb-c346-46e9-ad3c-86385ab985cc"
   },
   "outputs": [
    {
     "name": "stdout",
     "output_type": "stream",
     "text": [
      "AUC KNN_com_st_fs: 0.9730571428571428\n"
     ]
    }
   ],
   "source": [
    "### Cross Validation AUC\n",
    "knn_com_st_fs_cv = cross_val_score(knn_com_st,train_X, train_y, scoring='roc_auc', cv=10, n_jobs=-1)\n",
    "print('AUC KNN_com_st_fs:', mean(knn_com_st_fs_cv))"
   ]
  },
  {
   "attachments": {},
   "cell_type": "markdown",
   "metadata": {
    "id": "_gSyGNj7Zl5j"
   },
   "source": [
    "### Conclusión:\n",
    "\n",
    "A modo de conclusión y tras la vista de los resultados obtenidos podemos decir que PCA ha conseguido no solo simplificar el conjunto de datos y reducir computacionalmente el costo de la ejecución del modelo si no también unas métricas bastante óptimas. \n",
    "\n",
    " A su vez también denotamos la importancia que tiene el preprocesamiento de los datos tales como las estandarización con el fin de evitar bias en el desarrollo de los componentes.  Otros de los factores que se deben de tener en cuenta son los valores nulos y outliers (efecto similar a la no estandarización de los datos). \n"
   ]
  }
 ],
 "metadata": {
  "colab": {
   "collapsed_sections": [],
   "name": "TareaPCA.ipynb",
   "provenance": []
  },
  "kernelspec": {
   "display_name": "Python 3",
   "language": "python",
   "name": "python3"
  },
  "language_info": {
   "codemirror_mode": {
    "name": "ipython",
    "version": 3
   },
   "file_extension": ".py",
   "mimetype": "text/x-python",
   "name": "python",
   "nbconvert_exporter": "python",
   "pygments_lexer": "ipython3",
   "version": "3.11.3"
  }
 },
 "nbformat": 4,
 "nbformat_minor": 1
}
