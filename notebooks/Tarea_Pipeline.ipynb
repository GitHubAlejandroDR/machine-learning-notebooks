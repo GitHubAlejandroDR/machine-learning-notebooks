{
 "cells": [
  {
   "attachments": {},
   "cell_type": "markdown",
   "id": "c7153ab4",
   "metadata": {},
   "source": [
    "# Práctica Breast Cancer \n",
    "\n",
    "## Descripción\n",
    "\n",
    "Flujo de Machine Learning con los siguientes pasos:\n",
    "\n",
    "- Estandarización de datos\n",
    "\n",
    "- PCA o Feature Selection\n",
    "\n",
    "- Algoritmo de clasificación Random Forest\n",
    "\n",
    "- Hiperparametrización con GridSearch\n",
    "\n",
    "# Description\n",
    "\n",
    "Applying an ML workflow in a breast cancer prognosis prediction classification problem. The Breast Cancer dataset from sklearn was used.\n",
    "\n",
    "## Objetives \n",
    "\n",
    "- Detect and process outlier values\n",
    "- Apply scale data techniques\n",
    "- Apply Principal Component Analysis\n",
    "- Apply KBest feature section technique\n",
    "- Apply Random Forest model\n",
    "- Use sklearn pipeline\n",
    "- Apply GridSearch auto hyperparameter tuning technique\n",
    "- Evaluate all approaches independently\n",
    "- Compare results\n",
    "\n",
    "### Cargamos los datos"
   ]
  },
  {
   "cell_type": "code",
   "execution_count": 34,
   "id": "1f9b02a0",
   "metadata": {},
   "outputs": [],
   "source": [
    "from sklearn.datasets import load_breast_cancer\n",
    "breast_cancer = load_breast_cancer()"
   ]
  },
  {
   "attachments": {},
   "cell_type": "markdown",
   "id": "570810d2",
   "metadata": {},
   "source": [
    "### Importamos las librerias necesarias"
   ]
  },
  {
   "cell_type": "code",
   "execution_count": 67,
   "id": "b6db4f65",
   "metadata": {},
   "outputs": [],
   "source": [
    "import numpy as np\n",
    "import pandas as pd\n",
    "import matplotlib.pyplot as plt\n",
    "import seaborn as sns\n",
    "import warnings\n",
    "warnings.simplefilter(action='ignore', category=FutureWarning)\n",
    "warnings.filterwarnings('ignore')\n",
    "from sklearn.ensemble import RandomForestClassifier\n",
    "from sklearn.pipeline import Pipeline \n",
    "from sklearn.preprocessing import Normalizer, StandardScaler, MinMaxScaler, PowerTransformer, MaxAbsScaler, LabelEncoder\n",
    "from sklearn.model_selection import GridSearchCV\n",
    "from sklearn.decomposition import PCA\n",
    "from sklearn.feature_selection import SelectKBest\n",
    "from sklearn.feature_selection import chi2\n",
    "from sklearn.model_selection import cross_val_score\n",
    "from numpy import mean\n",
    "from sklearn.metrics import *\n"
   ]
  },
  {
   "attachments": {},
   "cell_type": "markdown",
   "id": "c631ac64",
   "metadata": {},
   "source": [
    "### Inspeccionamos la descripción de los datos"
   ]
  },
  {
   "cell_type": "code",
   "execution_count": 36,
   "id": "90fd4fdc",
   "metadata": {},
   "outputs": [
    {
     "data": {
      "text/plain": [
       "'.. _breast_cancer_dataset:\\n\\nBreast cancer wisconsin (diagnostic) dataset\\n--------------------------------------------\\n\\n**Data Set Characteristics:**\\n\\n    :Number of Instances: 569\\n\\n    :Number of Attributes: 30 numeric, predictive attributes and the class\\n\\n    :Attribute Information:\\n        - radius (mean of distances from center to points on the perimeter)\\n        - texture (standard deviation of gray-scale values)\\n        - perimeter\\n        - area\\n        - smoothness (local variation in radius lengths)\\n        - compactness (perimeter^2 / area - 1.0)\\n        - concavity (severity of concave portions of the contour)\\n        - concave points (number of concave portions of the contour)\\n        - symmetry\\n        - fractal dimension (\"coastline approximation\" - 1)\\n\\n        The mean, standard error, and \"worst\" or largest (mean of the three\\n        worst/largest values) of these features were computed for each image,\\n        resulting in 30 features.  For instance, field 0 is Mean Radius, field\\n        10 is Radius SE, field 20 is Worst Radius.\\n\\n        - class:\\n                - WDBC-Malignant\\n                - WDBC-Benign\\n\\n    :Summary Statistics:\\n\\n    ===================================== ====== ======\\n                                           Min    Max\\n    ===================================== ====== ======\\n    radius (mean):                        6.981  28.11\\n    texture (mean):                       9.71   39.28\\n    perimeter (mean):                     43.79  188.5\\n    area (mean):                          143.5  2501.0\\n    smoothness (mean):                    0.053  0.163\\n    compactness (mean):                   0.019  0.345\\n    concavity (mean):                     0.0    0.427\\n    concave points (mean):                0.0    0.201\\n    symmetry (mean):                      0.106  0.304\\n    fractal dimension (mean):             0.05   0.097\\n    radius (standard error):              0.112  2.873\\n    texture (standard error):             0.36   4.885\\n    perimeter (standard error):           0.757  21.98\\n    area (standard error):                6.802  542.2\\n    smoothness (standard error):          0.002  0.031\\n    compactness (standard error):         0.002  0.135\\n    concavity (standard error):           0.0    0.396\\n    concave points (standard error):      0.0    0.053\\n    symmetry (standard error):            0.008  0.079\\n    fractal dimension (standard error):   0.001  0.03\\n    radius (worst):                       7.93   36.04\\n    texture (worst):                      12.02  49.54\\n    perimeter (worst):                    50.41  251.2\\n    area (worst):                         185.2  4254.0\\n    smoothness (worst):                   0.071  0.223\\n    compactness (worst):                  0.027  1.058\\n    concavity (worst):                    0.0    1.252\\n    concave points (worst):               0.0    0.291\\n    symmetry (worst):                     0.156  0.664\\n    fractal dimension (worst):            0.055  0.208\\n    ===================================== ====== ======\\n\\n    :Missing Attribute Values: None\\n\\n    :Class Distribution: 212 - Malignant, 357 - Benign\\n\\n    :Creator:  Dr. William H. Wolberg, W. Nick Street, Olvi L. Mangasarian\\n\\n    :Donor: Nick Street\\n\\n    :Date: November, 1995\\n\\nThis is a copy of UCI ML Breast Cancer Wisconsin (Diagnostic) datasets.\\nhttps://goo.gl/U2Uwz2\\n\\nFeatures are computed from a digitized image of a fine needle\\naspirate (FNA) of a breast mass.  They describe\\ncharacteristics of the cell nuclei present in the image.\\n\\nSeparating plane described above was obtained using\\nMultisurface Method-Tree (MSM-T) [K. P. Bennett, \"Decision Tree\\nConstruction Via Linear Programming.\" Proceedings of the 4th\\nMidwest Artificial Intelligence and Cognitive Science Society,\\npp. 97-101, 1992], a classification method which uses linear\\nprogramming to construct a decision tree.  Relevant features\\nwere selected using an exhaustive search in the space of 1-4\\nfeatures and 1-3 separating planes.\\n\\nThe actual linear program used to obtain the separating plane\\nin the 3-dimensional space is that described in:\\n[K. P. Bennett and O. L. Mangasarian: \"Robust Linear\\nProgramming Discrimination of Two Linearly Inseparable Sets\",\\nOptimization Methods and Software 1, 1992, 23-34].\\n\\nThis database is also available through the UW CS ftp server:\\n\\nftp ftp.cs.wisc.edu\\ncd math-prog/cpo-dataset/machine-learn/WDBC/\\n\\n.. topic:: References\\n\\n   - W.N. Street, W.H. Wolberg and O.L. Mangasarian. Nuclear feature extraction \\n     for breast tumor diagnosis. IS&T/SPIE 1993 International Symposium on \\n     Electronic Imaging: Science and Technology, volume 1905, pages 861-870,\\n     San Jose, CA, 1993.\\n   - O.L. Mangasarian, W.N. Street and W.H. Wolberg. Breast cancer diagnosis and \\n     prognosis via linear programming. Operations Research, 43(4), pages 570-577, \\n     July-August 1995.\\n   - W.H. Wolberg, W.N. Street, and O.L. Mangasarian. Machine learning techniques\\n     to diagnose breast cancer from fine-needle aspirates. Cancer Letters 77 (1994) \\n     163-171.'"
      ]
     },
     "execution_count": 36,
     "metadata": {},
     "output_type": "execute_result"
    }
   ],
   "source": [
    "breast_cancer.DESCR"
   ]
  },
  {
   "attachments": {},
   "cell_type": "markdown",
   "id": "0d4fa351",
   "metadata": {},
   "source": [
    "Características fundamentales:\n",
    "\n",
    "- 569 instancias\n",
    "- 30 atributos\n",
    "- No existen valores nulos\n",
    "- Distribución de clases con 212 Malignant, 357 Bening\n",
    "\n",
    "La inexistencia de valores nulos nos facilita el preprocesamiento ya que en caso contrario deberíamos de utilizar algún método de imputación de variables o eliminación de instancias."
   ]
  },
  {
   "attachments": {},
   "cell_type": "markdown",
   "id": "5630c020",
   "metadata": {},
   "source": [
    "### Obtenemos las claves del dataset.\n",
    "\n",
    "Las claves del dataset nos permiten obtener el contenido dentro de este de una forma categorizada."
   ]
  },
  {
   "cell_type": "code",
   "execution_count": 37,
   "id": "d2b5653b",
   "metadata": {},
   "outputs": [
    {
     "data": {
      "text/plain": [
       "dict_keys(['data', 'target', 'frame', 'target_names', 'DESCR', 'feature_names', 'filename', 'data_module'])"
      ]
     },
     "execution_count": 37,
     "metadata": {},
     "output_type": "execute_result"
    }
   ],
   "source": [
    "breast_cancer.keys()"
   ]
  },
  {
   "attachments": {},
   "cell_type": "markdown",
   "id": "ded1cad3",
   "metadata": {},
   "source": [
    "#### Como los nombres de las clases"
   ]
  },
  {
   "cell_type": "code",
   "execution_count": 38,
   "id": "26d8a2c4",
   "metadata": {},
   "outputs": [
    {
     "data": {
      "text/plain": [
       "array(['malignant', 'benign'], dtype='<U9')"
      ]
     },
     "execution_count": 38,
     "metadata": {},
     "output_type": "execute_result"
    }
   ],
   "source": [
    "breast_cancer.target_names"
   ]
  },
  {
   "attachments": {},
   "cell_type": "markdown",
   "id": "5cdcbb0c",
   "metadata": {},
   "source": [
    "#### O los nombres de los atributos"
   ]
  },
  {
   "cell_type": "code",
   "execution_count": 39,
   "id": "fe59be6b",
   "metadata": {},
   "outputs": [
    {
     "data": {
      "text/plain": [
       "array(['mean radius', 'mean texture', 'mean perimeter', 'mean area',\n",
       "       'mean smoothness', 'mean compactness', 'mean concavity',\n",
       "       'mean concave points', 'mean symmetry', 'mean fractal dimension',\n",
       "       'radius error', 'texture error', 'perimeter error', 'area error',\n",
       "       'smoothness error', 'compactness error', 'concavity error',\n",
       "       'concave points error', 'symmetry error',\n",
       "       'fractal dimension error', 'worst radius', 'worst texture',\n",
       "       'worst perimeter', 'worst area', 'worst smoothness',\n",
       "       'worst compactness', 'worst concavity', 'worst concave points',\n",
       "       'worst symmetry', 'worst fractal dimension'], dtype='<U23')"
      ]
     },
     "execution_count": 39,
     "metadata": {},
     "output_type": "execute_result"
    }
   ],
   "source": [
    "breast_cancer.feature_names"
   ]
  },
  {
   "attachments": {},
   "cell_type": "markdown",
   "id": "34fa68a9",
   "metadata": {},
   "source": [
    "### Cargamos los datos en un dataframe"
   ]
  },
  {
   "cell_type": "code",
   "execution_count": 40,
   "id": "0f46eb5e",
   "metadata": {},
   "outputs": [
    {
     "name": "stdout",
     "output_type": "stream",
     "text": [
      "<class 'pandas.core.frame.DataFrame'>\n",
      "RangeIndex: 569 entries, 0 to 568\n",
      "Data columns (total 30 columns):\n",
      " #   Column                   Non-Null Count  Dtype  \n",
      "---  ------                   --------------  -----  \n",
      " 0   mean radius              569 non-null    float64\n",
      " 1   mean texture             569 non-null    float64\n",
      " 2   mean perimeter           569 non-null    float64\n",
      " 3   mean area                569 non-null    float64\n",
      " 4   mean smoothness          569 non-null    float64\n",
      " 5   mean compactness         569 non-null    float64\n",
      " 6   mean concavity           569 non-null    float64\n",
      " 7   mean concave points      569 non-null    float64\n",
      " 8   mean symmetry            569 non-null    float64\n",
      " 9   mean fractal dimension   569 non-null    float64\n",
      " 10  radius error             569 non-null    float64\n",
      " 11  texture error            569 non-null    float64\n",
      " 12  perimeter error          569 non-null    float64\n",
      " 13  area error               569 non-null    float64\n",
      " 14  smoothness error         569 non-null    float64\n",
      " 15  compactness error        569 non-null    float64\n",
      " 16  concavity error          569 non-null    float64\n",
      " 17  concave points error     569 non-null    float64\n",
      " 18  symmetry error           569 non-null    float64\n",
      " 19  fractal dimension error  569 non-null    float64\n",
      " 20  worst radius             569 non-null    float64\n",
      " 21  worst texture            569 non-null    float64\n",
      " 22  worst perimeter          569 non-null    float64\n",
      " 23  worst area               569 non-null    float64\n",
      " 24  worst smoothness         569 non-null    float64\n",
      " 25  worst compactness        569 non-null    float64\n",
      " 26  worst concavity          569 non-null    float64\n",
      " 27  worst concave points     569 non-null    float64\n",
      " 28  worst symmetry           569 non-null    float64\n",
      " 29  worst fractal dimension  569 non-null    float64\n",
      "dtypes: float64(30)\n",
      "memory usage: 133.5 KB\n"
     ]
    }
   ],
   "source": [
    "df_features = pd.DataFrame(breast_cancer.data, columns= breast_cancer.feature_names)\n",
    "df_features.info()"
   ]
  },
  {
   "attachments": {},
   "cell_type": "markdown",
   "id": "4a845422",
   "metadata": {},
   "source": [
    "### Añadimos la columna de clase al dataframe"
   ]
  },
  {
   "cell_type": "code",
   "execution_count": 41,
   "id": "34c25d88",
   "metadata": {},
   "outputs": [],
   "source": [
    "df_class = pd.DataFrame(breast_cancer.target)"
   ]
  },
  {
   "attachments": {},
   "cell_type": "markdown",
   "id": "2c3a394d",
   "metadata": {},
   "source": [
    "Como vemos todos nuestras variables son numéricas. Esto nos evita el tener que realizar una codificación de variables categóricas."
   ]
  },
  {
   "attachments": {},
   "cell_type": "markdown",
   "id": "4f55e849",
   "metadata": {},
   "source": [
    "### Detección de outliers\n",
    "\n",
    "Los outliers son valores anómalos o extremos dentro de un conjunto de datos.\n",
    "\n",
    "##### Optamos por la siguiente representación gráfica para su detección."
   ]
  },
  {
   "cell_type": "code",
   "execution_count": 42,
   "id": "1c141622",
   "metadata": {},
   "outputs": [
    {
     "data": {
      "image/png": "[encoded data removed]",
      "text/plain": [
       "<Figure size 432x288 with 1 Axes>"
      ]
     },
     "metadata": {
      "needs_background": "light"
     },
     "output_type": "display_data"
    }
   ],
   "source": [
    "ws = np.array(df_features['worst symmetry'])\n",
    "edad_unique, counts = np.unique(ws, return_counts=True)\n",
    "\n",
    "sizes = counts*100\n",
    "colors = ['blue']*len(edad_unique)\n",
    "colors[-1] = 'red'\n",
    "\n",
    "plt.axhline(1, color='k', linestyle='--')\n",
    "plt.scatter(edad_unique, np.ones(len(edad_unique)), s=sizes, color=colors)\n",
    "plt.yticks([])\n",
    "plt.title(\"Columna worst symmetry\")\n",
    "plt.show()"
   ]
  },
  {
   "attachments": {},
   "cell_type": "markdown",
   "id": "d7c5947c",
   "metadata": {},
   "source": [
    "Vemos como están distribuidos los datos y como existe un valor que se sale de una forma 'relativamente significativa' de dicha distribución.\n",
    "\n",
    "Comprobamos algunas columnas más."
   ]
  },
  {
   "cell_type": "code",
   "execution_count": 43,
   "id": "96473ab7",
   "metadata": {},
   "outputs": [
    {
     "data": {
      "image/png": "[encoded data removed]",
      "text/plain": [
       "<Figure size 432x288 with 1 Axes>"
      ]
     },
     "metadata": {
      "needs_background": "light"
     },
     "output_type": "display_data"
    }
   ],
   "source": [
    "wr = np.array(df_features['worst radius'])\n",
    "edad_unique, counts = np.unique(wr, return_counts=True)\n",
    "\n",
    "sizes = counts*100\n",
    "colors = ['blue']*len(edad_unique)\n",
    "colors[-1] = 'red'\n",
    "\n",
    "plt.axhline(1, color='k', linestyle='--')\n",
    "plt.scatter(edad_unique, np.ones(len(edad_unique)), s=sizes, color=colors)\n",
    "plt.yticks([])\n",
    "plt.title(\"Columna worst radius\")\n",
    "plt.show()"
   ]
  },
  {
   "cell_type": "code",
   "execution_count": 44,
   "id": "0c7b61d0",
   "metadata": {},
   "outputs": [
    {
     "data": {
      "image/png": "[encoded data removed]",
      "text/plain": [
       "<Figure size 432x288 with 1 Axes>"
      ]
     },
     "metadata": {
      "needs_background": "light"
     },
     "output_type": "display_data"
    }
   ],
   "source": [
    "wa = np.array(df_features['worst area'])\n",
    "edad_unique, counts = np.unique(wa, return_counts=True)\n",
    "\n",
    "sizes = counts*100\n",
    "colors = ['blue']*len(edad_unique)\n",
    "colors[-1] = 'red'\n",
    "\n",
    "plt.axhline(1, color='k', linestyle='--')\n",
    "plt.scatter(edad_unique, np.ones(len(edad_unique)), s=sizes, color=colors)\n",
    "plt.yticks([])\n",
    "plt.title(\"Columna worst area\")\n",
    "plt.show()"
   ]
  },
  {
   "attachments": {},
   "cell_type": "markdown",
   "id": "aef17675",
   "metadata": {},
   "source": [
    "### Eliminación de outliers\n",
    "\n",
    "Una vez que tenemos identificado que existen algunos valores que se salen de la distribución normal de los datos podemos proceder a eliminar las instancias correspondientes. \n",
    "\n",
    "Añadimos que para determinar si dichas instancias corresponden realmente a valores anómalos o si estos entran dentro de la normalidad del ambito en el cual se han obtenido estos, se debe de tener conocimiento del área en cuestión. \n",
    "\n",
    "En nuestro caso procedemos a crear un conjunto con las instancias que contengan valores más extremos de la variable worst area eliminadas.\n",
    "\n"
   ]
  },
  {
   "cell_type": "code",
   "execution_count": 45,
   "id": "4874de9c",
   "metadata": {},
   "outputs": [],
   "source": [
    "df_features_outWorstArea = df_features.drop(df_features[df_features['worst area']  > 3500.0].index)"
   ]
  },
  {
   "cell_type": "code",
   "execution_count": 46,
   "id": "619028e6",
   "metadata": {},
   "outputs": [
    {
     "name": "stdout",
     "output_type": "stream",
     "text": [
      "Int64Index([461], dtype='int64')\n"
     ]
    }
   ],
   "source": [
    "print(df_features[df_features['worst area']  > 3500.0].index)"
   ]
  },
  {
   "attachments": {},
   "cell_type": "markdown",
   "id": "f7097a81",
   "metadata": {},
   "source": [
    "Se ha eliminado la instancia 461. Como es de suponer esto no influirá en los resultos. El objetivo es demostrar el proceso de detección y eliminación de outliers."
   ]
  },
  {
   "attachments": {},
   "cell_type": "markdown",
   "id": "02b3da3c",
   "metadata": {},
   "source": [
    "### División del dataset en conjunto de entrenamiento y test"
   ]
  },
  {
   "cell_type": "code",
   "execution_count": 47,
   "id": "7e119e46",
   "metadata": {},
   "outputs": [],
   "source": [
    "from sklearn.model_selection import train_test_split "
   ]
  },
  {
   "cell_type": "code",
   "execution_count": 48,
   "id": "acf5f366",
   "metadata": {},
   "outputs": [],
   "source": [
    "train_X, test_X, train_y, test_y = train_test_split(df_features, df_class, test_size = 0.3)"
   ]
  },
  {
   "attachments": {},
   "cell_type": "markdown",
   "id": "14eba8a1",
   "metadata": {},
   "source": [
    "## Pipelines\n",
    "\n",
    "Creamos dos pipelines. En ellos determinamos las operaciones a realizar. En nuestro caso realizaremos en primer lugar la estandarización de los datos, procederemos con la reducción de variables y finalizará con el entrenamiento del modelo. "
   ]
  },
  {
   "cell_type": "code",
   "execution_count": 49,
   "id": "e2e75293",
   "metadata": {},
   "outputs": [],
   "source": [
    "pipe_pca = Pipeline([('scaler', StandardScaler()), ('reduce_dim', PCA()),('classifier', RandomForestClassifier())])\n",
    "pipe_fs = Pipeline([('scaler', StandardScaler()), ('reduce_dim', SelectKBest()), ('classifier', RandomForestClassifier())])"
   ]
  },
  {
   "attachments": {},
   "cell_type": "markdown",
   "id": "7907fb9b",
   "metadata": {},
   "source": [
    "Obtenemos las claves de los parámetros de los elementos involucrados en los distintos pasos del pipeline. Realizaremos una selección de estos y le asociaremos una secuencia de valores. Finalmente se los pasaremos al método de hiperparametrización automática GridSearch."
   ]
  },
  {
   "cell_type": "code",
   "execution_count": 50,
   "id": "adc38b66",
   "metadata": {},
   "outputs": [
    {
     "data": {
      "text/plain": [
       "dict_keys(['memory', 'steps', 'verbose', 'scaler', 'reduce_dim', 'classifier', 'scaler__copy', 'scaler__with_mean', 'scaler__with_std', 'reduce_dim__copy', 'reduce_dim__iterated_power', 'reduce_dim__n_components', 'reduce_dim__random_state', 'reduce_dim__svd_solver', 'reduce_dim__tol', 'reduce_dim__whiten', 'classifier__bootstrap', 'classifier__ccp_alpha', 'classifier__class_weight', 'classifier__criterion', 'classifier__max_depth', 'classifier__max_features', 'classifier__max_leaf_nodes', 'classifier__max_samples', 'classifier__min_impurity_decrease', 'classifier__min_samples_leaf', 'classifier__min_samples_split', 'classifier__min_weight_fraction_leaf', 'classifier__n_estimators', 'classifier__n_jobs', 'classifier__oob_score', 'classifier__random_state', 'classifier__verbose', 'classifier__warm_start'])"
      ]
     },
     "execution_count": 50,
     "metadata": {},
     "output_type": "execute_result"
    }
   ],
   "source": [
    "pipe_pca.get_params().keys()"
   ]
  },
  {
   "cell_type": "code",
   "execution_count": 51,
   "id": "3b53032a",
   "metadata": {},
   "outputs": [
    {
     "data": {
      "text/plain": [
       "dict_keys(['memory', 'steps', 'verbose', 'scaler', 'reduce_dim', 'classifier', 'scaler__copy', 'scaler__with_mean', 'scaler__with_std', 'reduce_dim__k', 'reduce_dim__score_func', 'classifier__bootstrap', 'classifier__ccp_alpha', 'classifier__class_weight', 'classifier__criterion', 'classifier__max_depth', 'classifier__max_features', 'classifier__max_leaf_nodes', 'classifier__max_samples', 'classifier__min_impurity_decrease', 'classifier__min_samples_leaf', 'classifier__min_samples_split', 'classifier__min_weight_fraction_leaf', 'classifier__n_estimators', 'classifier__n_jobs', 'classifier__oob_score', 'classifier__random_state', 'classifier__verbose', 'classifier__warm_start'])"
      ]
     },
     "execution_count": 51,
     "metadata": {},
     "output_type": "execute_result"
    }
   ],
   "source": [
    "pipe_fs.get_params().keys()"
   ]
  },
  {
   "cell_type": "code",
   "execution_count": 56,
   "id": "712bcaf3",
   "metadata": {},
   "outputs": [],
   "source": [
    "parameters_pca = {'scaler': [StandardScaler(), MinMaxScaler()],\n",
    "              'reduce_dim__n_components': [2, 4, 6], 'classifier__n_estimators':[10, 20, 50], 'classifier__min_samples_leaf':[2, 3, 4]  }\n",
    "parameters_fs = {'scaler': [StandardScaler(), MinMaxScaler()],\n",
    "              'reduce_dim__k': [2, 3, 6], 'classifier__n_estimators':[10,20,50], 'classifier__min_samples_leaf':[2, 3, 4, 5]}"
   ]
  },
  {
   "cell_type": "code",
   "execution_count": 57,
   "id": "f0bd16d4",
   "metadata": {},
   "outputs": [],
   "source": [
    "grid_pca = GridSearchCV(pipe_pca, param_grid = parameters_pca, scoring = 'roc_auc' )\n",
    "grid_fs = GridSearchCV(pipe_fs, param_grid = parameters_fs, scoring = 'roc_auc' )"
   ]
  },
  {
   "cell_type": "code",
   "execution_count": 58,
   "id": "bef45844",
   "metadata": {},
   "outputs": [],
   "source": [
    "grid_pca.fit(train_X,train_y)\n",
    "grid_fs.fit(train_X,train_y)\n",
    "y_pred_grid_pca = grid_pca.predict(test_X)\n",
    "y_pred_grid_fs = grid_fs.predict(test_X)"
   ]
  },
  {
   "cell_type": "code",
   "execution_count": 61,
   "id": "0a2afb93",
   "metadata": {},
   "outputs": [],
   "source": [
    "auc_grid_pca = cross_val_score(grid_pca,train_X, train_y, scoring='roc_auc', cv=10, n_jobs=-1)\n",
    "acc_grid_pca = cross_val_score(grid_pca,train_X, train_y, scoring='accuracy', cv=10, n_jobs=-1)"
   ]
  },
  {
   "cell_type": "code",
   "execution_count": 62,
   "id": "911bd3e7",
   "metadata": {},
   "outputs": [],
   "source": [
    "auc_grid_fs = cross_val_score(grid_fs,train_X, train_y, scoring='roc_auc', cv=10, n_jobs=-1)\n",
    "acc_grid_fs = cross_val_score(grid_fs,train_X, train_y, scoring='accuracy', cv=10, n_jobs=-1)"
   ]
  },
  {
   "attachments": {},
   "cell_type": "markdown",
   "id": "0de3b369",
   "metadata": {},
   "source": [
    "## Resultados:"
   ]
  },
  {
   "cell_type": "code",
   "execution_count": 68,
   "id": "5c52a5e9",
   "metadata": {},
   "outputs": [
    {
     "name": "stdout",
     "output_type": "stream",
     "text": [
      "AUC Training Grid PCA: 0.9813952380952381\n",
      "AUC Training Grid FS: 0.9811278388278388\n",
      "\n",
      "ACC Training Grid PCA: 0.9448076923076923\n",
      "ACC Training Grid FS: 0.9523717948717948\n",
      "\n",
      "AUC Test Grid PCA 0.9635549872122763\n",
      "ACC Test Grid PCA:  0.9649122807017544\n",
      "AUC Test Grid FS 0.9247655583972719\n",
      "ACC Test Grid FS:  0.9298245614035088\n"
     ]
    }
   ],
   "source": [
    "print('AUC Training Grid PCA:', mean(auc_grid_pca))\n",
    "print('AUC Training Grid FS:', mean(auc_grid_fs))\n",
    "print()\n",
    "print('ACC Training Grid PCA:', mean(acc_grid_pca))\n",
    "print('ACC Training Grid FS:', mean(acc_grid_fs))\n",
    "\n",
    "print()\n",
    "print(\"AUC Test Grid PCA\", roc_auc_score(test_y, y_pred_grid_pca))\n",
    "print(\"ACC Test Grid PCA: \", accuracy_score(test_y, y_pred_grid_pca))\n",
    "print(\"AUC Test Grid FS\", roc_auc_score(test_y, y_pred_grid_fs))\n",
    "print(\"ACC Test Grid FS: \", accuracy_score(test_y, y_pred_grid_fs))"
   ]
  },
  {
   "attachments": {},
   "cell_type": "markdown",
   "id": "8f2f6c28",
   "metadata": {},
   "source": [
    "### Best model PCA"
   ]
  },
  {
   "cell_type": "code",
   "execution_count": 69,
   "id": "5ad98fb0",
   "metadata": {},
   "outputs": [
    {
     "name": "stdout",
     "output_type": "stream",
     "text": [
      "Pipeline(steps=[('scaler', MinMaxScaler()), ('reduce_dim', PCA(n_components=6)),\n",
      "                ('classifier',\n",
      "                 RandomForestClassifier(min_samples_leaf=3, n_estimators=50))])\n"
     ]
    }
   ],
   "source": [
    "best_pipe_pca = grid_pca.best_estimator_\n",
    "print(best_pipe_pca)"
   ]
  },
  {
   "attachments": {},
   "cell_type": "markdown",
   "id": "aef1f991",
   "metadata": {},
   "source": [
    "### Best parameters PCA"
   ]
  },
  {
   "cell_type": "code",
   "execution_count": 70,
   "id": "9ff03120",
   "metadata": {},
   "outputs": [
    {
     "name": "stdout",
     "output_type": "stream",
     "text": [
      "{'classifier__min_samples_leaf': 3, 'classifier__n_estimators': 50, 'reduce_dim__n_components': 6, 'scaler': MinMaxScaler()}\n"
     ]
    }
   ],
   "source": [
    "best_params_pca = grid_pca.best_params_\n",
    "print(best_params_pca)"
   ]
  },
  {
   "attachments": {},
   "cell_type": "markdown",
   "id": "700f8412",
   "metadata": {},
   "source": [
    "#### Best model FS"
   ]
  },
  {
   "cell_type": "code",
   "execution_count": 71,
   "id": "9bfaa7fd",
   "metadata": {},
   "outputs": [
    {
     "name": "stdout",
     "output_type": "stream",
     "text": [
      "Pipeline(steps=[('scaler', StandardScaler()), ('reduce_dim', SelectKBest(k=6)),\n",
      "                ('classifier',\n",
      "                 RandomForestClassifier(min_samples_leaf=4, n_estimators=10))])\n"
     ]
    }
   ],
   "source": [
    "best_pipe_fs = grid_fs.best_estimator_\n",
    "print(best_pipe_fs)"
   ]
  },
  {
   "attachments": {},
   "cell_type": "markdown",
   "id": "cbb3f309",
   "metadata": {},
   "source": [
    "### Best parameters PCA"
   ]
  },
  {
   "cell_type": "code",
   "execution_count": 72,
   "id": "7c113972",
   "metadata": {},
   "outputs": [
    {
     "name": "stdout",
     "output_type": "stream",
     "text": [
      "{'classifier__min_samples_leaf': 4, 'classifier__n_estimators': 10, 'reduce_dim__k': 6, 'scaler': StandardScaler()}\n"
     ]
    }
   ],
   "source": [
    "best_params_fs = grid_fs.best_params_\n",
    "print(best_params_fs)"
   ]
  }
 ],
 "metadata": {
  "kernelspec": {
   "display_name": "Python 3",
   "language": "python",
   "name": "python3"
  },
  "language_info": {
   "codemirror_mode": {
    "name": "ipython",
    "version": 3
   },
   "file_extension": ".py",
   "mimetype": "text/x-python",
   "name": "python",
   "nbconvert_exporter": "python",
   "pygments_lexer": "ipython3",
   "version": "3.8.8"
  }
 },
 "nbformat": 4,
 "nbformat_minor": 5
}
